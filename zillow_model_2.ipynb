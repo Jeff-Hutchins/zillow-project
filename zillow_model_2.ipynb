{
 "cells": [
  {
   "cell_type": "code",
   "execution_count": 1,
   "metadata": {},
   "outputs": [],
   "source": [
    "import pandas as pd\n",
    "import numpy as np\n",
    "import seaborn as sns\n",
    "from env import user, password, host\n",
    "import wrangle_zillow\n",
    "\n",
    "from sklearn.metrics import mean_squared_error\n",
    "import matplotlib.pyplot as plt\n",
    "%matplotlib inline\n",
    "import warnings\n",
    "warnings.filterwarnings(action='ignore')"
   ]
  },
  {
   "cell_type": "code",
   "execution_count": 2,
   "metadata": {},
   "outputs": [],
   "source": [
    "zillow_df = wrangle_zillow.wrangle_zillow_data()"
   ]
  },
  {
   "cell_type": "code",
   "execution_count": 6,
   "metadata": {},
   "outputs": [
    {
     "data": {
      "text/html": [
       "<div>\n",
       "<style scoped>\n",
       "    .dataframe tbody tr th:only-of-type {\n",
       "        vertical-align: middle;\n",
       "    }\n",
       "\n",
       "    .dataframe tbody tr th {\n",
       "        vertical-align: top;\n",
       "    }\n",
       "\n",
       "    .dataframe thead th {\n",
       "        text-align: right;\n",
       "    }\n",
       "</style>\n",
       "<table border=\"1\" class=\"dataframe\">\n",
       "  <thead>\n",
       "    <tr style=\"text-align: right;\">\n",
       "      <th></th>\n",
       "      <th>bedrooms</th>\n",
       "      <th>bathrooms</th>\n",
       "      <th>square_feet</th>\n",
       "      <th>property_tax</th>\n",
       "      <th>house_value</th>\n",
       "      <th>property_description</th>\n",
       "      <th>property_id</th>\n",
       "      <th>lot_size</th>\n",
       "      <th>fips</th>\n",
       "      <th>lot_size_minus_sqft</th>\n",
       "    </tr>\n",
       "  </thead>\n",
       "  <tbody>\n",
       "    <tr>\n",
       "      <th>0</th>\n",
       "      <td>4.0</td>\n",
       "      <td>2.0</td>\n",
       "      <td>1604.0</td>\n",
       "      <td>6089.82</td>\n",
       "      <td>498347.0</td>\n",
       "      <td>Single Family Residential</td>\n",
       "      <td>261.0</td>\n",
       "      <td>6211.0</td>\n",
       "      <td>Los Angeles County</td>\n",
       "      <td>4607.0</td>\n",
       "    </tr>\n",
       "    <tr>\n",
       "      <th>1</th>\n",
       "      <td>3.0</td>\n",
       "      <td>3.0</td>\n",
       "      <td>2384.0</td>\n",
       "      <td>6679.55</td>\n",
       "      <td>549917.0</td>\n",
       "      <td>Single Family Residential</td>\n",
       "      <td>261.0</td>\n",
       "      <td>9109.0</td>\n",
       "      <td>Los Angeles County</td>\n",
       "      <td>6725.0</td>\n",
       "    </tr>\n",
       "    <tr>\n",
       "      <th>2</th>\n",
       "      <td>3.0</td>\n",
       "      <td>2.0</td>\n",
       "      <td>1574.0</td>\n",
       "      <td>3876.31</td>\n",
       "      <td>235272.0</td>\n",
       "      <td>Single Family Residential</td>\n",
       "      <td>261.0</td>\n",
       "      <td>7538.0</td>\n",
       "      <td>Los Angeles County</td>\n",
       "      <td>5964.0</td>\n",
       "    </tr>\n",
       "    <tr>\n",
       "      <th>3</th>\n",
       "      <td>2.0</td>\n",
       "      <td>2.0</td>\n",
       "      <td>1619.0</td>\n",
       "      <td>4206.15</td>\n",
       "      <td>340000.0</td>\n",
       "      <td>Single Family Residential</td>\n",
       "      <td>261.0</td>\n",
       "      <td>111564.0</td>\n",
       "      <td>Los Angeles County</td>\n",
       "      <td>109945.0</td>\n",
       "    </tr>\n",
       "    <tr>\n",
       "      <th>4</th>\n",
       "      <td>2.0</td>\n",
       "      <td>3.0</td>\n",
       "      <td>2408.0</td>\n",
       "      <td>24353.42</td>\n",
       "      <td>2017254.0</td>\n",
       "      <td>Single Family Residential</td>\n",
       "      <td>261.0</td>\n",
       "      <td>10497.0</td>\n",
       "      <td>Los Angeles County</td>\n",
       "      <td>8089.0</td>\n",
       "    </tr>\n",
       "  </tbody>\n",
       "</table>\n",
       "</div>"
      ],
      "text/plain": [
       "   bedrooms  bathrooms  square_feet  property_tax  house_value  \\\n",
       "0       4.0        2.0       1604.0       6089.82     498347.0   \n",
       "1       3.0        3.0       2384.0       6679.55     549917.0   \n",
       "2       3.0        2.0       1574.0       3876.31     235272.0   \n",
       "3       2.0        2.0       1619.0       4206.15     340000.0   \n",
       "4       2.0        3.0       2408.0      24353.42    2017254.0   \n",
       "\n",
       "        property_description  property_id  lot_size                fips  \\\n",
       "0  Single Family Residential        261.0    6211.0  Los Angeles County   \n",
       "1  Single Family Residential        261.0    9109.0  Los Angeles County   \n",
       "2  Single Family Residential        261.0    7538.0  Los Angeles County   \n",
       "3  Single Family Residential        261.0  111564.0  Los Angeles County   \n",
       "4  Single Family Residential        261.0   10497.0  Los Angeles County   \n",
       "\n",
       "   lot_size_minus_sqft  \n",
       "0               4607.0  \n",
       "1               6725.0  \n",
       "2               5964.0  \n",
       "3             109945.0  \n",
       "4               8089.0  "
      ]
     },
     "execution_count": 6,
     "metadata": {},
     "output_type": "execute_result"
    }
   ],
   "source": [
    "zillow_df.head()"
   ]
  },
  {
   "cell_type": "code",
   "execution_count": 5,
   "metadata": {},
   "outputs": [],
   "source": [
    "zillow_df['lot_size_minus_sqft'] = zillow_df['lot_size'] - zillow_df['square_feet']"
   ]
  },
  {
   "cell_type": "code",
   "execution_count": 4,
   "metadata": {},
   "outputs": [],
   "source": [
    "zillow_df = zillow_df[zillow_df.loc[:]!=0].dropna()"
   ]
  },
  {
   "cell_type": "code",
   "execution_count": 23,
   "metadata": {},
   "outputs": [
    {
     "data": {
      "text/html": [
       "<div>\n",
       "<style scoped>\n",
       "    .dataframe tbody tr th:only-of-type {\n",
       "        vertical-align: middle;\n",
       "    }\n",
       "\n",
       "    .dataframe tbody tr th {\n",
       "        vertical-align: top;\n",
       "    }\n",
       "\n",
       "    .dataframe thead th {\n",
       "        text-align: right;\n",
       "    }\n",
       "</style>\n",
       "<table border=\"1\" class=\"dataframe\">\n",
       "  <thead>\n",
       "    <tr style=\"text-align: right;\">\n",
       "      <th></th>\n",
       "      <th>bedrooms</th>\n",
       "      <th>bathrooms</th>\n",
       "      <th>square_feet</th>\n",
       "      <th>property_tax</th>\n",
       "      <th>house_value</th>\n",
       "      <th>property_description</th>\n",
       "      <th>property_id</th>\n",
       "      <th>fips</th>\n",
       "    </tr>\n",
       "  </thead>\n",
       "  <tbody>\n",
       "    <tr>\n",
       "      <th>0</th>\n",
       "      <td>4.0</td>\n",
       "      <td>2.0</td>\n",
       "      <td>1604.0</td>\n",
       "      <td>6089.82</td>\n",
       "      <td>498347.0</td>\n",
       "      <td>Single Family Residential</td>\n",
       "      <td>261.0</td>\n",
       "      <td>Los Angeles County</td>\n",
       "    </tr>\n",
       "    <tr>\n",
       "      <th>1</th>\n",
       "      <td>3.0</td>\n",
       "      <td>3.0</td>\n",
       "      <td>2384.0</td>\n",
       "      <td>6679.55</td>\n",
       "      <td>549917.0</td>\n",
       "      <td>Single Family Residential</td>\n",
       "      <td>261.0</td>\n",
       "      <td>Los Angeles County</td>\n",
       "    </tr>\n",
       "    <tr>\n",
       "      <th>2</th>\n",
       "      <td>3.0</td>\n",
       "      <td>2.0</td>\n",
       "      <td>1574.0</td>\n",
       "      <td>3876.31</td>\n",
       "      <td>235272.0</td>\n",
       "      <td>Single Family Residential</td>\n",
       "      <td>261.0</td>\n",
       "      <td>Los Angeles County</td>\n",
       "    </tr>\n",
       "    <tr>\n",
       "      <th>3</th>\n",
       "      <td>2.0</td>\n",
       "      <td>2.0</td>\n",
       "      <td>1619.0</td>\n",
       "      <td>4206.15</td>\n",
       "      <td>340000.0</td>\n",
       "      <td>Single Family Residential</td>\n",
       "      <td>261.0</td>\n",
       "      <td>Los Angeles County</td>\n",
       "    </tr>\n",
       "    <tr>\n",
       "      <th>4</th>\n",
       "      <td>2.0</td>\n",
       "      <td>3.0</td>\n",
       "      <td>2408.0</td>\n",
       "      <td>24353.42</td>\n",
       "      <td>2017254.0</td>\n",
       "      <td>Single Family Residential</td>\n",
       "      <td>261.0</td>\n",
       "      <td>Los Angeles County</td>\n",
       "    </tr>\n",
       "  </tbody>\n",
       "</table>\n",
       "</div>"
      ],
      "text/plain": [
       "   bedrooms  bathrooms  square_feet  property_tax  house_value  \\\n",
       "0       4.0        2.0       1604.0       6089.82     498347.0   \n",
       "1       3.0        3.0       2384.0       6679.55     549917.0   \n",
       "2       3.0        2.0       1574.0       3876.31     235272.0   \n",
       "3       2.0        2.0       1619.0       4206.15     340000.0   \n",
       "4       2.0        3.0       2408.0      24353.42    2017254.0   \n",
       "\n",
       "        property_description  property_id                fips  \n",
       "0  Single Family Residential        261.0  Los Angeles County  \n",
       "1  Single Family Residential        261.0  Los Angeles County  \n",
       "2  Single Family Residential        261.0  Los Angeles County  \n",
       "3  Single Family Residential        261.0  Los Angeles County  \n",
       "4  Single Family Residential        261.0  Los Angeles County  "
      ]
     },
     "execution_count": 23,
     "metadata": {},
     "output_type": "execute_result"
    }
   ],
   "source": [
    "# 12,388 Houses\n",
    "\n",
    "la_df = zillow_df[zillow_df['fips'] == 'Los Angeles County']\n",
    "la_df.head()"
   ]
  },
  {
   "cell_type": "code",
   "execution_count": 25,
   "metadata": {},
   "outputs": [
    {
     "data": {
      "text/html": [
       "<div>\n",
       "<style scoped>\n",
       "    .dataframe tbody tr th:only-of-type {\n",
       "        vertical-align: middle;\n",
       "    }\n",
       "\n",
       "    .dataframe tbody tr th {\n",
       "        vertical-align: top;\n",
       "    }\n",
       "\n",
       "    .dataframe thead th {\n",
       "        text-align: right;\n",
       "    }\n",
       "</style>\n",
       "<table border=\"1\" class=\"dataframe\">\n",
       "  <thead>\n",
       "    <tr style=\"text-align: right;\">\n",
       "      <th></th>\n",
       "      <th>bedrooms</th>\n",
       "      <th>bathrooms</th>\n",
       "      <th>square_feet</th>\n",
       "      <th>property_tax</th>\n",
       "      <th>house_value</th>\n",
       "      <th>property_description</th>\n",
       "      <th>property_id</th>\n",
       "      <th>fips</th>\n",
       "    </tr>\n",
       "  </thead>\n",
       "  <tbody>\n",
       "    <tr>\n",
       "      <th>12477</th>\n",
       "      <td>4.0</td>\n",
       "      <td>2.0</td>\n",
       "      <td>1444.0</td>\n",
       "      <td>5822.90</td>\n",
       "      <td>479778.0</td>\n",
       "      <td>Single Family Residential</td>\n",
       "      <td>261.0</td>\n",
       "      <td>Orange County</td>\n",
       "    </tr>\n",
       "    <tr>\n",
       "      <th>12478</th>\n",
       "      <td>2.0</td>\n",
       "      <td>2.0</td>\n",
       "      <td>949.0</td>\n",
       "      <td>872.48</td>\n",
       "      <td>50102.0</td>\n",
       "      <td>Single Family Residential</td>\n",
       "      <td>261.0</td>\n",
       "      <td>Orange County</td>\n",
       "    </tr>\n",
       "    <tr>\n",
       "      <th>12479</th>\n",
       "      <td>2.0</td>\n",
       "      <td>2.0</td>\n",
       "      <td>1090.0</td>\n",
       "      <td>2953.10</td>\n",
       "      <td>290614.0</td>\n",
       "      <td>Single Family Residential</td>\n",
       "      <td>261.0</td>\n",
       "      <td>Orange County</td>\n",
       "    </tr>\n",
       "    <tr>\n",
       "      <th>12480</th>\n",
       "      <td>4.0</td>\n",
       "      <td>3.0</td>\n",
       "      <td>2505.0</td>\n",
       "      <td>9740.22</td>\n",
       "      <td>829744.0</td>\n",
       "      <td>Single Family Residential</td>\n",
       "      <td>261.0</td>\n",
       "      <td>Orange County</td>\n",
       "    </tr>\n",
       "    <tr>\n",
       "      <th>12481</th>\n",
       "      <td>5.0</td>\n",
       "      <td>3.5</td>\n",
       "      <td>4958.0</td>\n",
       "      <td>5235.58</td>\n",
       "      <td>465753.0</td>\n",
       "      <td>Single Family Residential</td>\n",
       "      <td>261.0</td>\n",
       "      <td>Orange County</td>\n",
       "    </tr>\n",
       "  </tbody>\n",
       "</table>\n",
       "</div>"
      ],
      "text/plain": [
       "       bedrooms  bathrooms  square_feet  property_tax  house_value  \\\n",
       "12477       4.0        2.0       1444.0       5822.90     479778.0   \n",
       "12478       2.0        2.0        949.0        872.48      50102.0   \n",
       "12479       2.0        2.0       1090.0       2953.10     290614.0   \n",
       "12480       4.0        3.0       2505.0       9740.22     829744.0   \n",
       "12481       5.0        3.5       4958.0       5235.58     465753.0   \n",
       "\n",
       "            property_description  property_id           fips  \n",
       "12477  Single Family Residential        261.0  Orange County  \n",
       "12478  Single Family Residential        261.0  Orange County  \n",
       "12479  Single Family Residential        261.0  Orange County  \n",
       "12480  Single Family Residential        261.0  Orange County  \n",
       "12481  Single Family Residential        261.0  Orange County  "
      ]
     },
     "execution_count": 25,
     "metadata": {},
     "output_type": "execute_result"
    }
   ],
   "source": [
    "# 2780 Houses\n",
    "\n",
    "orange_county_df = zillow_df[zillow_df['fips'] == 'Orange County']\n",
    "orange_county_df.head()"
   ]
  },
  {
   "cell_type": "code",
   "execution_count": 26,
   "metadata": {},
   "outputs": [
    {
     "data": {
      "text/html": [
       "<div>\n",
       "<style scoped>\n",
       "    .dataframe tbody tr th:only-of-type {\n",
       "        vertical-align: middle;\n",
       "    }\n",
       "\n",
       "    .dataframe tbody tr th {\n",
       "        vertical-align: top;\n",
       "    }\n",
       "\n",
       "    .dataframe thead th {\n",
       "        text-align: right;\n",
       "    }\n",
       "</style>\n",
       "<table border=\"1\" class=\"dataframe\">\n",
       "  <thead>\n",
       "    <tr style=\"text-align: right;\">\n",
       "      <th></th>\n",
       "      <th>bedrooms</th>\n",
       "      <th>bathrooms</th>\n",
       "      <th>square_feet</th>\n",
       "      <th>property_tax</th>\n",
       "      <th>house_value</th>\n",
       "      <th>property_description</th>\n",
       "      <th>property_id</th>\n",
       "      <th>fips</th>\n",
       "    </tr>\n",
       "  </thead>\n",
       "  <tbody>\n",
       "    <tr>\n",
       "      <th>15273</th>\n",
       "      <td>2.0</td>\n",
       "      <td>1.0</td>\n",
       "      <td>912.0</td>\n",
       "      <td>1489.06</td>\n",
       "      <td>126974.0</td>\n",
       "      <td>Single Family Residential</td>\n",
       "      <td>261.0</td>\n",
       "      <td>Ventura County</td>\n",
       "    </tr>\n",
       "    <tr>\n",
       "      <th>15274</th>\n",
       "      <td>3.0</td>\n",
       "      <td>2.0</td>\n",
       "      <td>1054.0</td>\n",
       "      <td>4224.78</td>\n",
       "      <td>358876.0</td>\n",
       "      <td>Single Family Residential</td>\n",
       "      <td>261.0</td>\n",
       "      <td>Ventura County</td>\n",
       "    </tr>\n",
       "    <tr>\n",
       "      <th>15275</th>\n",
       "      <td>4.0</td>\n",
       "      <td>3.0</td>\n",
       "      <td>2568.0</td>\n",
       "      <td>8030.60</td>\n",
       "      <td>733940.0</td>\n",
       "      <td>Single Family Residential</td>\n",
       "      <td>261.0</td>\n",
       "      <td>Ventura County</td>\n",
       "    </tr>\n",
       "    <tr>\n",
       "      <th>15276</th>\n",
       "      <td>5.0</td>\n",
       "      <td>4.5</td>\n",
       "      <td>3980.0</td>\n",
       "      <td>8650.36</td>\n",
       "      <td>769907.0</td>\n",
       "      <td>Single Family Residential</td>\n",
       "      <td>261.0</td>\n",
       "      <td>Ventura County</td>\n",
       "    </tr>\n",
       "    <tr>\n",
       "      <th>15277</th>\n",
       "      <td>3.0</td>\n",
       "      <td>2.5</td>\n",
       "      <td>1698.0</td>\n",
       "      <td>497.84</td>\n",
       "      <td>224593.0</td>\n",
       "      <td>Single Family Residential</td>\n",
       "      <td>261.0</td>\n",
       "      <td>Ventura County</td>\n",
       "    </tr>\n",
       "  </tbody>\n",
       "</table>\n",
       "</div>"
      ],
      "text/plain": [
       "       bedrooms  bathrooms  square_feet  property_tax  house_value  \\\n",
       "15273       2.0        1.0        912.0       1489.06     126974.0   \n",
       "15274       3.0        2.0       1054.0       4224.78     358876.0   \n",
       "15275       4.0        3.0       2568.0       8030.60     733940.0   \n",
       "15276       5.0        4.5       3980.0       8650.36     769907.0   \n",
       "15277       3.0        2.5       1698.0        497.84     224593.0   \n",
       "\n",
       "            property_description  property_id            fips  \n",
       "15273  Single Family Residential        261.0  Ventura County  \n",
       "15274  Single Family Residential        261.0  Ventura County  \n",
       "15275  Single Family Residential        261.0  Ventura County  \n",
       "15276  Single Family Residential        261.0  Ventura County  \n",
       "15277  Single Family Residential        261.0  Ventura County  "
      ]
     },
     "execution_count": 26,
     "metadata": {},
     "output_type": "execute_result"
    }
   ],
   "source": [
    "# 788 Houses\n",
    "\n",
    "ventura_county_df = zillow_df[zillow_df['fips'] == 'Ventura County']\n",
    "ventura_county_df.head()"
   ]
  },
  {
   "cell_type": "code",
   "execution_count": 27,
   "metadata": {
    "scrolled": true
   },
   "outputs": [],
   "source": [
    "df_la = la_df[['bedrooms', 'bathrooms', 'square_feet', 'house_value']]\n",
    "X_la = la_df[['bedrooms', 'bathrooms', 'square_feet']]\n",
    "y_la = la_df[['house_value']]\n",
    "\n",
    "df_ventura = ventura_county_df[['bedrooms', 'bathrooms', 'square_feet', 'house_value']]\n",
    "X_ventura = ventura_county_df[['bedrooms', 'bathrooms', 'square_feet']]\n",
    "y_ventura = ventura_county_df[['house_value']]\n",
    "\n",
    "df_orange = orange_county_df[['bedrooms', 'bathrooms', 'square_feet', 'house_value']]\n",
    "X_orange = orange_county_df[['bedrooms', 'bathrooms', 'square_feet']]\n",
    "y_orange = orange_county_df[['house_value']]"
   ]
  },
  {
   "cell_type": "code",
   "execution_count": 73,
   "metadata": {},
   "outputs": [
    {
     "data": {
      "text/html": [
       "<div>\n",
       "<style scoped>\n",
       "    .dataframe tbody tr th:only-of-type {\n",
       "        vertical-align: middle;\n",
       "    }\n",
       "\n",
       "    .dataframe tbody tr th {\n",
       "        vertical-align: top;\n",
       "    }\n",
       "\n",
       "    .dataframe thead th {\n",
       "        text-align: right;\n",
       "    }\n",
       "</style>\n",
       "<table border=\"1\" class=\"dataframe\">\n",
       "  <thead>\n",
       "    <tr style=\"text-align: right;\">\n",
       "      <th></th>\n",
       "      <th>sqft_per_bedrooms</th>\n",
       "      <th>sqft_per_bathrooms</th>\n",
       "      <th>square_feet</th>\n",
       "      <th>house_value</th>\n",
       "    </tr>\n",
       "  </thead>\n",
       "  <tbody>\n",
       "    <tr>\n",
       "      <th>0</th>\n",
       "      <td>401.000000</td>\n",
       "      <td>802.000000</td>\n",
       "      <td>1604.0</td>\n",
       "      <td>498347.0</td>\n",
       "    </tr>\n",
       "    <tr>\n",
       "      <th>1</th>\n",
       "      <td>794.666667</td>\n",
       "      <td>794.666667</td>\n",
       "      <td>2384.0</td>\n",
       "      <td>549917.0</td>\n",
       "    </tr>\n",
       "    <tr>\n",
       "      <th>2</th>\n",
       "      <td>524.666667</td>\n",
       "      <td>787.000000</td>\n",
       "      <td>1574.0</td>\n",
       "      <td>235272.0</td>\n",
       "    </tr>\n",
       "    <tr>\n",
       "      <th>3</th>\n",
       "      <td>809.500000</td>\n",
       "      <td>809.500000</td>\n",
       "      <td>1619.0</td>\n",
       "      <td>340000.0</td>\n",
       "    </tr>\n",
       "    <tr>\n",
       "      <th>4</th>\n",
       "      <td>1204.000000</td>\n",
       "      <td>802.666667</td>\n",
       "      <td>2408.0</td>\n",
       "      <td>2017254.0</td>\n",
       "    </tr>\n",
       "  </tbody>\n",
       "</table>\n",
       "</div>"
      ],
      "text/plain": [
       "   sqft_per_bedrooms  sqft_per_bathrooms  square_feet  house_value\n",
       "0         401.000000          802.000000       1604.0     498347.0\n",
       "1         794.666667          794.666667       2384.0     549917.0\n",
       "2         524.666667          787.000000       1574.0     235272.0\n",
       "3         809.500000          809.500000       1619.0     340000.0\n",
       "4        1204.000000          802.666667       2408.0    2017254.0"
      ]
     },
     "execution_count": 73,
     "metadata": {},
     "output_type": "execute_result"
    }
   ],
   "source": []
  },
  {
   "cell_type": "code",
   "execution_count": 29,
   "metadata": {},
   "outputs": [],
   "source": [
    "import split_scale"
   ]
  },
  {
   "cell_type": "code",
   "execution_count": 31,
   "metadata": {},
   "outputs": [],
   "source": [
    "train_la, test_la = split_scale.split_my_data(df_la)\n",
    "train_ventura, test_ventura = split_scale.split_my_data(df_ventura)\n",
    "train_orange, test_orange = split_scale.split_my_data(df_orange)"
   ]
  },
  {
   "cell_type": "code",
   "execution_count": 32,
   "metadata": {},
   "outputs": [],
   "source": [
    "scaler_la, train_scaled_la, test_scaled_la = split_scale.standard_scaler(train_la, test_la)\n",
    "scaler_ventura, train_scaled_ventura, test_scaled_ventura = split_scale.standard_scaler(train_ventura, test_ventura)\n",
    "scaler_orange, train_scaled_orange, test_scaled_orange = split_scale.standard_scaler(train_orange, test_orange)"
   ]
  },
  {
   "cell_type": "code",
   "execution_count": 34,
   "metadata": {},
   "outputs": [],
   "source": [
    "X_train_scaled_la = train_scaled_la[['bedrooms', 'bathrooms', 'square_feet']]\n",
    "y_train_la = train_la[['house_value']]\n",
    "\n",
    "X_train_scaled_ventura = train_scaled_ventura[['bedrooms', 'bathrooms', 'square_feet']]\n",
    "y_train_ventura = train_ventura[['house_value']]\n",
    "\n",
    "X_train_scaled_orange = train_scaled_orange[['bedrooms', 'bathrooms', 'square_feet']]\n",
    "y_train_orange = train_orange[['house_value']]"
   ]
  },
  {
   "cell_type": "code",
   "execution_count": 35,
   "metadata": {},
   "outputs": [],
   "source": [
    "X_test_la = test_la.drop(columns='house_value')\n",
    "y_test_la = test_la[['house_value']]\n",
    "\n",
    "X_test_ventura = test_ventura.drop(columns='house_value')\n",
    "y_test_ventura = test_ventura[['house_value']]\n",
    "\n",
    "X_test_orange = test_orange.drop(columns='house_value')\n",
    "y_test_orange = test_orange[['house_value']]"
   ]
  },
  {
   "cell_type": "code",
   "execution_count": 37,
   "metadata": {},
   "outputs": [],
   "source": [
    "# g=sns.PairGrid(df_la[['bedrooms', 'bathrooms', 'square_feet', 'house_value']])\n",
    "# g.map(sns.regplot)\n",
    "# plt.show()"
   ]
  },
  {
   "cell_type": "code",
   "execution_count": 38,
   "metadata": {},
   "outputs": [
    {
     "data": {
      "text/plain": [
       "(0, 4)"
      ]
     },
     "execution_count": 38,
     "metadata": {},
     "output_type": "execute_result"
    },
    {
     "data": {
      "image/png": "[encoded data removed]",
      "text/plain": [
       "<Figure size 576x432 with 2 Axes>"
      ]
     },
     "metadata": {
      "needs_background": "light"
     },
     "output_type": "display_data"
    }
   ],
   "source": [
    "plt.figure(figsize=(8,6))\n",
    "sns.heatmap(train_scaled_la.corr(), cmap='Reds', annot=True)\n",
    "plt.ylim(0, 4)"
   ]
  },
  {
   "cell_type": "code",
   "execution_count": 52,
   "metadata": {},
   "outputs": [
    {
     "data": {
      "text/html": [
       "<table class=\"simpletable\">\n",
       "<caption>OLS Regression Results</caption>\n",
       "<tr>\n",
       "  <th>Dep. Variable:</th>       <td>house_value</td>   <th>  R-squared (uncentered):</th>       <td>   0.256</td>  \n",
       "</tr>\n",
       "<tr>\n",
       "  <th>Model:</th>                   <td>OLS</td>       <th>  Adj. R-squared (uncentered):</th>  <td>   0.256</td>  \n",
       "</tr>\n",
       "<tr>\n",
       "  <th>Method:</th>             <td>Least Squares</td>  <th>  F-statistic:       </th>           <td>   1135.</td>  \n",
       "</tr>\n",
       "<tr>\n",
       "  <th>Date:</th>             <td>Sun, 20 Oct 2019</td> <th>  Prob (F-statistic):</th>            <td>  0.00</td>   \n",
       "</tr>\n",
       "<tr>\n",
       "  <th>Time:</th>                 <td>14:39:49</td>     <th>  Log-Likelihood:    </th>          <td>-1.4664e+05</td>\n",
       "</tr>\n",
       "<tr>\n",
       "  <th>No. Observations:</th>      <td>  9910</td>      <th>  AIC:               </th>           <td>2.933e+05</td> \n",
       "</tr>\n",
       "<tr>\n",
       "  <th>Df Residuals:</th>          <td>  9907</td>      <th>  BIC:               </th>           <td>2.933e+05</td> \n",
       "</tr>\n",
       "<tr>\n",
       "  <th>Df Model:</th>              <td>     3</td>      <th>                     </th>               <td> </td>     \n",
       "</tr>\n",
       "<tr>\n",
       "  <th>Covariance Type:</th>      <td>nonrobust</td>    <th>                     </th>               <td> </td>     \n",
       "</tr>\n",
       "</table>\n",
       "<table class=\"simpletable\">\n",
       "<tr>\n",
       "       <td></td>          <th>coef</th>     <th>std err</th>      <th>t</th>      <th>P>|t|</th>  <th>[0.025</th>    <th>0.975]</th>  \n",
       "</tr>\n",
       "<tr>\n",
       "  <th>bedrooms</th>    <td>-1.211e+05</td> <td> 8885.602</td> <td>  -13.634</td> <td> 0.000</td> <td>-1.39e+05</td> <td>-1.04e+05</td>\n",
       "</tr>\n",
       "<tr>\n",
       "  <th>bathrooms</th>   <td> 7.054e+04</td> <td> 1.28e+04</td> <td>    5.523</td> <td> 0.000</td> <td> 4.55e+04</td> <td> 9.56e+04</td>\n",
       "</tr>\n",
       "<tr>\n",
       "  <th>square_feet</th> <td>  3.86e+05</td> <td> 1.24e+04</td> <td>   31.195</td> <td> 0.000</td> <td> 3.62e+05</td> <td>  4.1e+05</td>\n",
       "</tr>\n",
       "</table>\n",
       "<table class=\"simpletable\">\n",
       "<tr>\n",
       "  <th>Omnibus:</th>       <td>13159.573</td> <th>  Durbin-Watson:     </th>  <td>   1.055</td>  \n",
       "</tr>\n",
       "<tr>\n",
       "  <th>Prob(Omnibus):</th>  <td> 0.000</td>   <th>  Jarque-Bera (JB):  </th> <td>7233246.253</td>\n",
       "</tr>\n",
       "<tr>\n",
       "  <th>Skew:</th>           <td> 7.139</td>   <th>  Prob(JB):          </th>  <td>    0.00</td>  \n",
       "</tr>\n",
       "<tr>\n",
       "  <th>Kurtosis:</th>       <td>134.581</td>  <th>  Cond. No.          </th>  <td>    3.99</td>  \n",
       "</tr>\n",
       "</table><br/><br/>Warnings:<br/>[1] Standard Errors assume that the covariance matrix of the errors is correctly specified."
      ],
      "text/plain": [
       "<class 'statsmodels.iolib.summary.Summary'>\n",
       "\"\"\"\n",
       "                                 OLS Regression Results                                \n",
       "=======================================================================================\n",
       "Dep. Variable:            house_value   R-squared (uncentered):                   0.256\n",
       "Model:                            OLS   Adj. R-squared (uncentered):              0.256\n",
       "Method:                 Least Squares   F-statistic:                              1135.\n",
       "Date:                Sun, 20 Oct 2019   Prob (F-statistic):                        0.00\n",
       "Time:                        14:39:49   Log-Likelihood:                     -1.4664e+05\n",
       "No. Observations:                9910   AIC:                                  2.933e+05\n",
       "Df Residuals:                    9907   BIC:                                  2.933e+05\n",
       "Df Model:                           3                                                  \n",
       "Covariance Type:            nonrobust                                                  \n",
       "===============================================================================\n",
       "                  coef    std err          t      P>|t|      [0.025      0.975]\n",
       "-------------------------------------------------------------------------------\n",
       "bedrooms    -1.211e+05   8885.602    -13.634      0.000   -1.39e+05   -1.04e+05\n",
       "bathrooms    7.054e+04   1.28e+04      5.523      0.000    4.55e+04    9.56e+04\n",
       "square_feet   3.86e+05   1.24e+04     31.195      0.000    3.62e+05     4.1e+05\n",
       "==============================================================================\n",
       "Omnibus:                    13159.573   Durbin-Watson:                   1.055\n",
       "Prob(Omnibus):                  0.000   Jarque-Bera (JB):          7233246.253\n",
       "Skew:                           7.139   Prob(JB):                         0.00\n",
       "Kurtosis:                     134.581   Cond. No.                         3.99\n",
       "==============================================================================\n",
       "\n",
       "Warnings:\n",
       "[1] Standard Errors assume that the covariance matrix of the errors is correctly specified.\n",
       "\"\"\""
      ]
     },
     "execution_count": 52,
     "metadata": {},
     "output_type": "execute_result"
    }
   ],
   "source": [
    "import statsmodels.api as sm\n",
    "\n",
    "ols_model = sm.OLS(y_train_la, X_train_scaled_la)\n",
    "\n",
    "res = sm.OLS(y_train_la, X_train_scaled_la).fit()\n",
    "\n",
    "res.summary()"
   ]
  },
  {
   "cell_type": "code",
   "execution_count": 42,
   "metadata": {},
   "outputs": [],
   "source": [
    "from sklearn.linear_model import LinearRegression\n",
    "from sklearn import linear_model\n",
    "\n",
    "lm1 = LinearRegression()"
   ]
  },
  {
   "cell_type": "code",
   "execution_count": 45,
   "metadata": {},
   "outputs": [],
   "source": [
    "predictions=pd.DataFrame({'actual':y_train_la.house_value}).reset_index(drop=True)\n",
    "\n",
    "lm1=LinearRegression()\n",
    "lm1.fit(X_train_scaled_la[['bedrooms', 'bathrooms', 'square_feet']],y_train_la)\n",
    "lm1_predictions=lm1.predict(X_train_scaled_la[['bedrooms', 'bathrooms', 'square_feet']])\n",
    "predictions['lm1']=lm1_predictions"
   ]
  },
  {
   "cell_type": "code",
   "execution_count": 46,
   "metadata": {},
   "outputs": [
    {
     "data": {
      "text/html": [
       "<div>\n",
       "<style scoped>\n",
       "    .dataframe tbody tr th:only-of-type {\n",
       "        vertical-align: middle;\n",
       "    }\n",
       "\n",
       "    .dataframe tbody tr th {\n",
       "        vertical-align: top;\n",
       "    }\n",
       "\n",
       "    .dataframe thead th {\n",
       "        text-align: right;\n",
       "    }\n",
       "</style>\n",
       "<table border=\"1\" class=\"dataframe\">\n",
       "  <thead>\n",
       "    <tr style=\"text-align: right;\">\n",
       "      <th></th>\n",
       "      <th>actual</th>\n",
       "      <th>lm1</th>\n",
       "      <th>baseline</th>\n",
       "    </tr>\n",
       "  </thead>\n",
       "  <tbody>\n",
       "    <tr>\n",
       "      <th>0</th>\n",
       "      <td>166186.0</td>\n",
       "      <td>95493.960056</td>\n",
       "      <td>443250.496771</td>\n",
       "    </tr>\n",
       "    <tr>\n",
       "      <th>1</th>\n",
       "      <td>341653.0</td>\n",
       "      <td>168007.046015</td>\n",
       "      <td>443250.496771</td>\n",
       "    </tr>\n",
       "    <tr>\n",
       "      <th>2</th>\n",
       "      <td>275972.0</td>\n",
       "      <td>225885.007942</td>\n",
       "      <td>443250.496771</td>\n",
       "    </tr>\n",
       "    <tr>\n",
       "      <th>3</th>\n",
       "      <td>345184.0</td>\n",
       "      <td>285163.237375</td>\n",
       "      <td>443250.496771</td>\n",
       "    </tr>\n",
       "    <tr>\n",
       "      <th>4</th>\n",
       "      <td>448000.0</td>\n",
       "      <td>608677.434555</td>\n",
       "      <td>443250.496771</td>\n",
       "    </tr>\n",
       "  </tbody>\n",
       "</table>\n",
       "</div>"
      ],
      "text/plain": [
       "     actual            lm1       baseline\n",
       "0  166186.0   95493.960056  443250.496771\n",
       "1  341653.0  168007.046015  443250.496771\n",
       "2  275972.0  225885.007942  443250.496771\n",
       "3  345184.0  285163.237375  443250.496771\n",
       "4  448000.0  608677.434555  443250.496771"
      ]
     },
     "execution_count": 46,
     "metadata": {},
     "output_type": "execute_result"
    }
   ],
   "source": [
    "#baseline model\n",
    "predictions['baseline'] = y_train_la.mean()[0]\n",
    "predictions.head()"
   ]
  },
  {
   "cell_type": "code",
   "execution_count": 47,
   "metadata": {},
   "outputs": [
    {
     "name": "stdout",
     "output_type": "stream",
     "text": [
      "intercept:  [443250.49677094]\n",
      "coefficients:  [[-121144.77247989   70535.92487216  385958.65629416]]\n"
     ]
    }
   ],
   "source": [
    "lm1_y_intercept = lm1.intercept_\n",
    "print(\"intercept: \", lm1_y_intercept)\n",
    "\n",
    "lm1_coefficients = lm1.coef_\n",
    "print(\"coefficients: \", lm1_coefficients)"
   ]
  },
  {
   "cell_type": "code",
   "execution_count": 49,
   "metadata": {},
   "outputs": [
    {
     "data": {
      "text/plain": [
       "array([[ 95493.96005586],\n",
       "       [168007.04601488],\n",
       "       [225885.00794232],\n",
       "       ...,\n",
       "       [261675.561523  ],\n",
       "       [313611.0575128 ],\n",
       "       [380819.77768384]])"
      ]
     },
     "execution_count": 49,
     "metadata": {},
     "output_type": "execute_result"
    }
   ],
   "source": [
    "y_pred_lm1 = lm1.predict(X_train_scaled_la)\n",
    "y_pred_lm1"
   ]
  },
  {
   "cell_type": "code",
   "execution_count": 58,
   "metadata": {},
   "outputs": [
    {
     "name": "stdout",
     "output_type": "stream",
     "text": [
      "linear model\n",
      "  mean squared error: 2.21e+11\n"
     ]
    }
   ],
   "source": [
    "mse_lm1 = mean_squared_error(y_train_la, y_pred_lm1)\n",
    "print(\"linear model\\n  mean squared error: {:.3}\".format(mse_lm1))"
   ]
  },
  {
   "cell_type": "code",
   "execution_count": 59,
   "metadata": {},
   "outputs": [
    {
     "data": {
      "text/plain": [
       "0.3938159993736463"
      ]
     },
     "execution_count": 59,
     "metadata": {},
     "output_type": "execute_result"
    }
   ],
   "source": [
    "from sklearn.metrics import r2_score\n",
    "r2 = r2_score(y_train_la, y_pred_lm1)\n",
    "r2"
   ]
  },
  {
   "cell_type": "code",
   "execution_count": 54,
   "metadata": {},
   "outputs": [],
   "source": [
    "from math import sqrt\n",
    "from sklearn.metrics import explained_variance_score\n",
    "from sklearn.metrics import mean_squared_error\n",
    "\n",
    "y_pred_baseline = np.array([y_train_la.mean()[0]]*len(y_train_la))\n",
    "MSE = mean_squared_error(y_train_la, y_pred_baseline)\n",
    "SSE = MSE*len(y_train_la)\n",
    "RMSE = sqrt(MSE)\n",
    "\n",
    "evs = explained_variance_score(y_train_la, y_pred_baseline)"
   ]
  },
  {
   "cell_type": "code",
   "execution_count": 56,
   "metadata": {},
   "outputs": [],
   "source": [
    "y_train_la = y_train_la.house_value"
   ]
  },
  {
   "cell_type": "code",
   "execution_count": 57,
   "metadata": {},
   "outputs": [
    {
     "data": {
      "text/plain": [
       "[<matplotlib.lines.Line2D at 0x1c23522b00>]"
      ]
     },
     "execution_count": 57,
     "metadata": {},
     "output_type": "execute_result"
    },
    {
     "data": {
      "image/png": "[encoded data removed]",
      "text/plain": [
       "<Figure size 455.5x360 with 1 Axes>"
      ]
     },
     "metadata": {
      "needs_background": "light"
     },
     "output_type": "display_data"
    }
   ],
   "source": [
    "pd.DataFrame({'actual': y_train_la,\n",
    "              'lm1': y_pred_lm1.ravel(),\n",
    "              'lm_baseline': y_pred_baseline.ravel()})\\\n",
    ".melt(id_vars=['actual'], var_name='model', value_name='prediction')\\\n",
    ".pipe((sns.relplot, 'data'), x='actual', y='prediction', hue='model')\n",
    "min = 0\n",
    "max = 5_000_000\n",
    "plt.plot([min, max],[min, max], c='black', ls=':')\n",
    "# plt.ylim(min, max)\n",
    "# plt.xlim(min, max)\n",
    "# plt.title('Predicted vs Actual Final Grade')"
   ]
  },
  {
   "cell_type": "code",
   "execution_count": null,
   "metadata": {},
   "outputs": [],
   "source": []
  }
 ],
 "metadata": {
  "kernelspec": {
   "display_name": "Python 3",
   "language": "python",
   "name": "python3"
  },
  "language_info": {
   "codemirror_mode": {
    "name": "ipython",
    "version": 3
   },
   "file_extension": ".py",
   "mimetype": "text/x-python",
   "name": "python",
   "nbconvert_exporter": "python",
   "pygments_lexer": "ipython3",
   "version": "3.7.3"
  }
 },
 "nbformat": 4,
 "nbformat_minor": 2
}
