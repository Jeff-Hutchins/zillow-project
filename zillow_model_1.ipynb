{
 "cells": [
  {
   "cell_type": "code",
   "execution_count": 39,
   "metadata": {},
   "outputs": [],
   "source": [
    "import pandas as pd\n",
    "import numpy as np\n",
    "import seaborn as sns\n",
    "from env import user, password, host\n",
    "import wrangle_zillow\n",
    "\n",
    "from sklearn.metrics import mean_squared_error\n",
    "import matplotlib.pyplot as plt\n",
    "%matplotlib inline\n",
    "import warnings\n",
    "warnings.filterwarnings(action='ignore')\n"
   ]
  },
  {
   "cell_type": "markdown",
   "metadata": {},
   "source": [
    "### Wrangle FIPS data in order to identify county for each data point\n",
    "(refer to prep.py for info on how data was wrangled and cleaned)"
   ]
  },
  {
   "cell_type": "code",
   "execution_count": 40,
   "metadata": {},
   "outputs": [],
   "source": [
    "county_df = wrangle_zillow.wrangle_county_fips()"
   ]
  },
  {
   "cell_type": "code",
   "execution_count": 41,
   "metadata": {
    "scrolled": true
   },
   "outputs": [
    {
     "data": {
      "text/html": [
       "<div>\n",
       "<style scoped>\n",
       "    .dataframe tbody tr th:only-of-type {\n",
       "        vertical-align: middle;\n",
       "    }\n",
       "\n",
       "    .dataframe tbody tr th {\n",
       "        vertical-align: top;\n",
       "    }\n",
       "\n",
       "    .dataframe thead th {\n",
       "        text-align: right;\n",
       "    }\n",
       "</style>\n",
       "<table border=\"1\" class=\"dataframe\">\n",
       "  <thead>\n",
       "    <tr style=\"text-align: right;\">\n",
       "      <th></th>\n",
       "      <th>County</th>\n",
       "    </tr>\n",
       "    <tr>\n",
       "      <th>fips_number</th>\n",
       "      <th></th>\n",
       "    </tr>\n",
       "  </thead>\n",
       "  <tbody>\n",
       "    <tr>\n",
       "      <th>6037</th>\n",
       "      <td>Los Angeles County</td>\n",
       "    </tr>\n",
       "    <tr>\n",
       "      <th>6059</th>\n",
       "      <td>Orange County</td>\n",
       "    </tr>\n",
       "    <tr>\n",
       "      <th>6111</th>\n",
       "      <td>Ventura County</td>\n",
       "    </tr>\n",
       "  </tbody>\n",
       "</table>\n",
       "</div>"
      ],
      "text/plain": [
       "                         County\n",
       "fips_number                    \n",
       "6037         Los Angeles County\n",
       "6059              Orange County\n",
       "6111             Ventura County"
      ]
     },
     "execution_count": 41,
     "metadata": {},
     "output_type": "execute_result"
    }
   ],
   "source": [
    "# 3 Different Counties:  Los Angeles County, Orange County, and Ventura County\n",
    "county_df"
   ]
  },
  {
   "cell_type": "markdown",
   "metadata": {},
   "source": [
    "### Wrangle zillow data\n",
    "(refer to wrangle_zillow.py for info on how data was wrangled and cleaned)"
   ]
  },
  {
   "cell_type": "code",
   "execution_count": 42,
   "metadata": {},
   "outputs": [],
   "source": [
    "zillow_df = wrangle_zillow.wrangle_zillow_data()"
   ]
  },
  {
   "cell_type": "code",
   "execution_count": 43,
   "metadata": {
    "scrolled": true
   },
   "outputs": [
    {
     "data": {
      "text/html": [
       "<div>\n",
       "<style scoped>\n",
       "    .dataframe tbody tr th:only-of-type {\n",
       "        vertical-align: middle;\n",
       "    }\n",
       "\n",
       "    .dataframe tbody tr th {\n",
       "        vertical-align: top;\n",
       "    }\n",
       "\n",
       "    .dataframe thead th {\n",
       "        text-align: right;\n",
       "    }\n",
       "</style>\n",
       "<table border=\"1\" class=\"dataframe\">\n",
       "  <thead>\n",
       "    <tr style=\"text-align: right;\">\n",
       "      <th></th>\n",
       "      <th>bedrooms</th>\n",
       "      <th>bathrooms</th>\n",
       "      <th>square_feet</th>\n",
       "      <th>property_tax</th>\n",
       "      <th>house_value</th>\n",
       "      <th>property_description</th>\n",
       "      <th>property_id</th>\n",
       "      <th>lot_size</th>\n",
       "      <th>fips</th>\n",
       "    </tr>\n",
       "  </thead>\n",
       "  <tbody>\n",
       "    <tr>\n",
       "      <th>0</th>\n",
       "      <td>4.0</td>\n",
       "      <td>2.0</td>\n",
       "      <td>1604.0</td>\n",
       "      <td>6089.82</td>\n",
       "      <td>498347.0</td>\n",
       "      <td>Single Family Residential</td>\n",
       "      <td>261.0</td>\n",
       "      <td>6211.0</td>\n",
       "      <td>Los Angeles County</td>\n",
       "    </tr>\n",
       "    <tr>\n",
       "      <th>1</th>\n",
       "      <td>3.0</td>\n",
       "      <td>3.0</td>\n",
       "      <td>2384.0</td>\n",
       "      <td>6679.55</td>\n",
       "      <td>549917.0</td>\n",
       "      <td>Single Family Residential</td>\n",
       "      <td>261.0</td>\n",
       "      <td>9109.0</td>\n",
       "      <td>Los Angeles County</td>\n",
       "    </tr>\n",
       "    <tr>\n",
       "      <th>2</th>\n",
       "      <td>3.0</td>\n",
       "      <td>2.0</td>\n",
       "      <td>1574.0</td>\n",
       "      <td>3876.31</td>\n",
       "      <td>235272.0</td>\n",
       "      <td>Single Family Residential</td>\n",
       "      <td>261.0</td>\n",
       "      <td>7538.0</td>\n",
       "      <td>Los Angeles County</td>\n",
       "    </tr>\n",
       "    <tr>\n",
       "      <th>3</th>\n",
       "      <td>2.0</td>\n",
       "      <td>2.0</td>\n",
       "      <td>1619.0</td>\n",
       "      <td>4206.15</td>\n",
       "      <td>340000.0</td>\n",
       "      <td>Single Family Residential</td>\n",
       "      <td>261.0</td>\n",
       "      <td>111564.0</td>\n",
       "      <td>Los Angeles County</td>\n",
       "    </tr>\n",
       "    <tr>\n",
       "      <th>4</th>\n",
       "      <td>2.0</td>\n",
       "      <td>3.0</td>\n",
       "      <td>2408.0</td>\n",
       "      <td>24353.42</td>\n",
       "      <td>2017254.0</td>\n",
       "      <td>Single Family Residential</td>\n",
       "      <td>261.0</td>\n",
       "      <td>10497.0</td>\n",
       "      <td>Los Angeles County</td>\n",
       "    </tr>\n",
       "  </tbody>\n",
       "</table>\n",
       "</div>"
      ],
      "text/plain": [
       "   bedrooms  bathrooms  square_feet  property_tax  house_value  \\\n",
       "0       4.0        2.0       1604.0       6089.82     498347.0   \n",
       "1       3.0        3.0       2384.0       6679.55     549917.0   \n",
       "2       3.0        2.0       1574.0       3876.31     235272.0   \n",
       "3       2.0        2.0       1619.0       4206.15     340000.0   \n",
       "4       2.0        3.0       2408.0      24353.42    2017254.0   \n",
       "\n",
       "        property_description  property_id  lot_size                fips  \n",
       "0  Single Family Residential        261.0    6211.0  Los Angeles County  \n",
       "1  Single Family Residential        261.0    9109.0  Los Angeles County  \n",
       "2  Single Family Residential        261.0    7538.0  Los Angeles County  \n",
       "3  Single Family Residential        261.0  111564.0  Los Angeles County  \n",
       "4  Single Family Residential        261.0   10497.0  Los Angeles County  "
      ]
     },
     "execution_count": 43,
     "metadata": {},
     "output_type": "execute_result"
    }
   ],
   "source": [
    "zillow_df.head()"
   ]
  },
  {
   "cell_type": "markdown",
   "metadata": {},
   "source": [
    "#### Add property tax rate column by dividing property tax by house_value"
   ]
  },
  {
   "cell_type": "code",
   "execution_count": 44,
   "metadata": {},
   "outputs": [],
   "source": [
    "zillow_df['property_tax_rate'] = (zillow_df.property_tax / zillow_df.house_value) * 100"
   ]
  },
  {
   "cell_type": "code",
   "execution_count": 45,
   "metadata": {
    "scrolled": true
   },
   "outputs": [
    {
     "data": {
      "text/html": [
       "<div>\n",
       "<style scoped>\n",
       "    .dataframe tbody tr th:only-of-type {\n",
       "        vertical-align: middle;\n",
       "    }\n",
       "\n",
       "    .dataframe tbody tr th {\n",
       "        vertical-align: top;\n",
       "    }\n",
       "\n",
       "    .dataframe thead th {\n",
       "        text-align: right;\n",
       "    }\n",
       "</style>\n",
       "<table border=\"1\" class=\"dataframe\">\n",
       "  <thead>\n",
       "    <tr style=\"text-align: right;\">\n",
       "      <th></th>\n",
       "      <th>bedrooms</th>\n",
       "      <th>bathrooms</th>\n",
       "      <th>square_feet</th>\n",
       "      <th>property_tax</th>\n",
       "      <th>house_value</th>\n",
       "      <th>property_description</th>\n",
       "      <th>property_id</th>\n",
       "      <th>lot_size</th>\n",
       "      <th>fips</th>\n",
       "      <th>property_tax_rate</th>\n",
       "    </tr>\n",
       "  </thead>\n",
       "  <tbody>\n",
       "    <tr>\n",
       "      <th>0</th>\n",
       "      <td>4.0</td>\n",
       "      <td>2.0</td>\n",
       "      <td>1604.0</td>\n",
       "      <td>6089.82</td>\n",
       "      <td>498347.0</td>\n",
       "      <td>Single Family Residential</td>\n",
       "      <td>261.0</td>\n",
       "      <td>6211.0</td>\n",
       "      <td>Los Angeles County</td>\n",
       "      <td>1.222004</td>\n",
       "    </tr>\n",
       "    <tr>\n",
       "      <th>1</th>\n",
       "      <td>3.0</td>\n",
       "      <td>3.0</td>\n",
       "      <td>2384.0</td>\n",
       "      <td>6679.55</td>\n",
       "      <td>549917.0</td>\n",
       "      <td>Single Family Residential</td>\n",
       "      <td>261.0</td>\n",
       "      <td>9109.0</td>\n",
       "      <td>Los Angeles County</td>\n",
       "      <td>1.214647</td>\n",
       "    </tr>\n",
       "    <tr>\n",
       "      <th>2</th>\n",
       "      <td>3.0</td>\n",
       "      <td>2.0</td>\n",
       "      <td>1574.0</td>\n",
       "      <td>3876.31</td>\n",
       "      <td>235272.0</td>\n",
       "      <td>Single Family Residential</td>\n",
       "      <td>261.0</td>\n",
       "      <td>7538.0</td>\n",
       "      <td>Los Angeles County</td>\n",
       "      <td>1.647587</td>\n",
       "    </tr>\n",
       "    <tr>\n",
       "      <th>3</th>\n",
       "      <td>2.0</td>\n",
       "      <td>2.0</td>\n",
       "      <td>1619.0</td>\n",
       "      <td>4206.15</td>\n",
       "      <td>340000.0</td>\n",
       "      <td>Single Family Residential</td>\n",
       "      <td>261.0</td>\n",
       "      <td>111564.0</td>\n",
       "      <td>Los Angeles County</td>\n",
       "      <td>1.237103</td>\n",
       "    </tr>\n",
       "    <tr>\n",
       "      <th>4</th>\n",
       "      <td>2.0</td>\n",
       "      <td>3.0</td>\n",
       "      <td>2408.0</td>\n",
       "      <td>24353.42</td>\n",
       "      <td>2017254.0</td>\n",
       "      <td>Single Family Residential</td>\n",
       "      <td>261.0</td>\n",
       "      <td>10497.0</td>\n",
       "      <td>Los Angeles County</td>\n",
       "      <td>1.207256</td>\n",
       "    </tr>\n",
       "  </tbody>\n",
       "</table>\n",
       "</div>"
      ],
      "text/plain": [
       "   bedrooms  bathrooms  square_feet  property_tax  house_value  \\\n",
       "0       4.0        2.0       1604.0       6089.82     498347.0   \n",
       "1       3.0        3.0       2384.0       6679.55     549917.0   \n",
       "2       3.0        2.0       1574.0       3876.31     235272.0   \n",
       "3       2.0        2.0       1619.0       4206.15     340000.0   \n",
       "4       2.0        3.0       2408.0      24353.42    2017254.0   \n",
       "\n",
       "        property_description  property_id  lot_size                fips  \\\n",
       "0  Single Family Residential        261.0    6211.0  Los Angeles County   \n",
       "1  Single Family Residential        261.0    9109.0  Los Angeles County   \n",
       "2  Single Family Residential        261.0    7538.0  Los Angeles County   \n",
       "3  Single Family Residential        261.0  111564.0  Los Angeles County   \n",
       "4  Single Family Residential        261.0   10497.0  Los Angeles County   \n",
       "\n",
       "   property_tax_rate  \n",
       "0           1.222004  \n",
       "1           1.214647  \n",
       "2           1.647587  \n",
       "3           1.237103  \n",
       "4           1.207256  "
      ]
     },
     "execution_count": 45,
     "metadata": {},
     "output_type": "execute_result"
    }
   ],
   "source": [
    "zillow_df.head()"
   ]
  },
  {
   "cell_type": "markdown",
   "metadata": {},
   "source": [
    "### Change FIPS number to name of County in zillow_df DataFrame"
   ]
  },
  {
   "cell_type": "code",
   "execution_count": 46,
   "metadata": {},
   "outputs": [
    {
     "data": {
      "text/html": [
       "<div>\n",
       "<style scoped>\n",
       "    .dataframe tbody tr th:only-of-type {\n",
       "        vertical-align: middle;\n",
       "    }\n",
       "\n",
       "    .dataframe tbody tr th {\n",
       "        vertical-align: top;\n",
       "    }\n",
       "\n",
       "    .dataframe thead th {\n",
       "        text-align: right;\n",
       "    }\n",
       "</style>\n",
       "<table border=\"1\" class=\"dataframe\">\n",
       "  <thead>\n",
       "    <tr style=\"text-align: right;\">\n",
       "      <th></th>\n",
       "      <th>bedrooms</th>\n",
       "      <th>bathrooms</th>\n",
       "      <th>square_feet</th>\n",
       "      <th>property_tax</th>\n",
       "      <th>house_value</th>\n",
       "      <th>property_description</th>\n",
       "      <th>property_id</th>\n",
       "      <th>lot_size</th>\n",
       "      <th>fips</th>\n",
       "      <th>property_tax_rate</th>\n",
       "    </tr>\n",
       "  </thead>\n",
       "  <tbody>\n",
       "    <tr>\n",
       "      <th>0</th>\n",
       "      <td>4.0</td>\n",
       "      <td>2.0</td>\n",
       "      <td>1604.0</td>\n",
       "      <td>6089.82</td>\n",
       "      <td>498347.0</td>\n",
       "      <td>Single Family Residential</td>\n",
       "      <td>261.0</td>\n",
       "      <td>6211.0</td>\n",
       "      <td>Los Angeles County</td>\n",
       "      <td>1.222004</td>\n",
       "    </tr>\n",
       "    <tr>\n",
       "      <th>1</th>\n",
       "      <td>3.0</td>\n",
       "      <td>3.0</td>\n",
       "      <td>2384.0</td>\n",
       "      <td>6679.55</td>\n",
       "      <td>549917.0</td>\n",
       "      <td>Single Family Residential</td>\n",
       "      <td>261.0</td>\n",
       "      <td>9109.0</td>\n",
       "      <td>Los Angeles County</td>\n",
       "      <td>1.214647</td>\n",
       "    </tr>\n",
       "    <tr>\n",
       "      <th>2</th>\n",
       "      <td>3.0</td>\n",
       "      <td>2.0</td>\n",
       "      <td>1574.0</td>\n",
       "      <td>3876.31</td>\n",
       "      <td>235272.0</td>\n",
       "      <td>Single Family Residential</td>\n",
       "      <td>261.0</td>\n",
       "      <td>7538.0</td>\n",
       "      <td>Los Angeles County</td>\n",
       "      <td>1.647587</td>\n",
       "    </tr>\n",
       "    <tr>\n",
       "      <th>3</th>\n",
       "      <td>2.0</td>\n",
       "      <td>2.0</td>\n",
       "      <td>1619.0</td>\n",
       "      <td>4206.15</td>\n",
       "      <td>340000.0</td>\n",
       "      <td>Single Family Residential</td>\n",
       "      <td>261.0</td>\n",
       "      <td>111564.0</td>\n",
       "      <td>Los Angeles County</td>\n",
       "      <td>1.237103</td>\n",
       "    </tr>\n",
       "    <tr>\n",
       "      <th>4</th>\n",
       "      <td>2.0</td>\n",
       "      <td>3.0</td>\n",
       "      <td>2408.0</td>\n",
       "      <td>24353.42</td>\n",
       "      <td>2017254.0</td>\n",
       "      <td>Single Family Residential</td>\n",
       "      <td>261.0</td>\n",
       "      <td>10497.0</td>\n",
       "      <td>Los Angeles County</td>\n",
       "      <td>1.207256</td>\n",
       "    </tr>\n",
       "  </tbody>\n",
       "</table>\n",
       "</div>"
      ],
      "text/plain": [
       "   bedrooms  bathrooms  square_feet  property_tax  house_value  \\\n",
       "0       4.0        2.0       1604.0       6089.82     498347.0   \n",
       "1       3.0        3.0       2384.0       6679.55     549917.0   \n",
       "2       3.0        2.0       1574.0       3876.31     235272.0   \n",
       "3       2.0        2.0       1619.0       4206.15     340000.0   \n",
       "4       2.0        3.0       2408.0      24353.42    2017254.0   \n",
       "\n",
       "        property_description  property_id  lot_size                fips  \\\n",
       "0  Single Family Residential        261.0    6211.0  Los Angeles County   \n",
       "1  Single Family Residential        261.0    9109.0  Los Angeles County   \n",
       "2  Single Family Residential        261.0    7538.0  Los Angeles County   \n",
       "3  Single Family Residential        261.0  111564.0  Los Angeles County   \n",
       "4  Single Family Residential        261.0   10497.0  Los Angeles County   \n",
       "\n",
       "   property_tax_rate  \n",
       "0           1.222004  \n",
       "1           1.214647  \n",
       "2           1.647587  \n",
       "3           1.237103  \n",
       "4           1.207256  "
      ]
     },
     "execution_count": 46,
     "metadata": {},
     "output_type": "execute_result"
    }
   ],
   "source": [
    "la_county_tax_rates = zillow_df.property_tax_rate[zillow_df.fips == 'Los Angeles County']\n",
    "orange_county_tax_rates = zillow_df.property_tax_rate[zillow_df.fips == 'Orange County']\n",
    "ventura_county_tax_rates = zillow_df.property_tax_rate[zillow_df.fips == 'Ventura County']\n",
    "zillow_df.head()"
   ]
  },
  {
   "cell_type": "markdown",
   "metadata": {},
   "source": [
    "### Data Visualizations:  Distribution of tax rates by County"
   ]
  },
  {
   "cell_type": "code",
   "execution_count": 47,
   "metadata": {},
   "outputs": [
    {
     "data": {
      "image/png": "[encoded data removed]",
      "text/plain": [
       "<Figure size 432x288 with 1 Axes>"
      ]
     },
     "metadata": {
      "needs_background": "light"
     },
     "output_type": "display_data"
    }
   ],
   "source": [
    "la_county_tax_rates_distplot = sns.distplot(la_county_tax_rates)"
   ]
  },
  {
   "cell_type": "code",
   "execution_count": 48,
   "metadata": {},
   "outputs": [
    {
     "data": {
      "image/png": "[encoded data removed]",
      "text/plain": [
       "<Figure size 432x288 with 1 Axes>"
      ]
     },
     "metadata": {
      "needs_background": "light"
     },
     "output_type": "display_data"
    }
   ],
   "source": [
    "orange_county_tax_rates_displot = sns.distplot(orange_county_tax_rates)"
   ]
  },
  {
   "cell_type": "code",
   "execution_count": 49,
   "metadata": {},
   "outputs": [
    {
     "data": {
      "image/png": "[encoded data removed]",
      "text/plain": [
       "<Figure size 432x288 with 1 Axes>"
      ]
     },
     "metadata": {
      "needs_background": "light"
     },
     "output_type": "display_data"
    }
   ],
   "source": [
    "ventura_county_tax_rates_displot = sns.distplot(ventura_county_tax_rates)"
   ]
  },
  {
   "cell_type": "markdown",
   "metadata": {},
   "source": [
    "### Split the data into train and test\n",
    "(refer to split_scale.py for splitting and scaling functions)"
   ]
  },
  {
   "cell_type": "code",
   "execution_count": 50,
   "metadata": {},
   "outputs": [
    {
     "data": {
      "text/html": [
       "<div>\n",
       "<style scoped>\n",
       "    .dataframe tbody tr th:only-of-type {\n",
       "        vertical-align: middle;\n",
       "    }\n",
       "\n",
       "    .dataframe tbody tr th {\n",
       "        vertical-align: top;\n",
       "    }\n",
       "\n",
       "    .dataframe thead th {\n",
       "        text-align: right;\n",
       "    }\n",
       "</style>\n",
       "<table border=\"1\" class=\"dataframe\">\n",
       "  <thead>\n",
       "    <tr style=\"text-align: right;\">\n",
       "      <th></th>\n",
       "      <th>bedrooms</th>\n",
       "      <th>bathrooms</th>\n",
       "      <th>square_feet</th>\n",
       "      <th>property_tax</th>\n",
       "      <th>house_value</th>\n",
       "      <th>property_description</th>\n",
       "      <th>property_id</th>\n",
       "      <th>lot_size</th>\n",
       "      <th>fips</th>\n",
       "      <th>property_tax_rate</th>\n",
       "    </tr>\n",
       "  </thead>\n",
       "  <tbody>\n",
       "    <tr>\n",
       "      <th>0</th>\n",
       "      <td>4.0</td>\n",
       "      <td>2.0</td>\n",
       "      <td>1604.0</td>\n",
       "      <td>6089.82</td>\n",
       "      <td>498347.0</td>\n",
       "      <td>Single Family Residential</td>\n",
       "      <td>261.0</td>\n",
       "      <td>6211.0</td>\n",
       "      <td>Los Angeles County</td>\n",
       "      <td>1.222004</td>\n",
       "    </tr>\n",
       "    <tr>\n",
       "      <th>1</th>\n",
       "      <td>3.0</td>\n",
       "      <td>3.0</td>\n",
       "      <td>2384.0</td>\n",
       "      <td>6679.55</td>\n",
       "      <td>549917.0</td>\n",
       "      <td>Single Family Residential</td>\n",
       "      <td>261.0</td>\n",
       "      <td>9109.0</td>\n",
       "      <td>Los Angeles County</td>\n",
       "      <td>1.214647</td>\n",
       "    </tr>\n",
       "    <tr>\n",
       "      <th>2</th>\n",
       "      <td>3.0</td>\n",
       "      <td>2.0</td>\n",
       "      <td>1574.0</td>\n",
       "      <td>3876.31</td>\n",
       "      <td>235272.0</td>\n",
       "      <td>Single Family Residential</td>\n",
       "      <td>261.0</td>\n",
       "      <td>7538.0</td>\n",
       "      <td>Los Angeles County</td>\n",
       "      <td>1.647587</td>\n",
       "    </tr>\n",
       "    <tr>\n",
       "      <th>3</th>\n",
       "      <td>2.0</td>\n",
       "      <td>2.0</td>\n",
       "      <td>1619.0</td>\n",
       "      <td>4206.15</td>\n",
       "      <td>340000.0</td>\n",
       "      <td>Single Family Residential</td>\n",
       "      <td>261.0</td>\n",
       "      <td>111564.0</td>\n",
       "      <td>Los Angeles County</td>\n",
       "      <td>1.237103</td>\n",
       "    </tr>\n",
       "    <tr>\n",
       "      <th>4</th>\n",
       "      <td>2.0</td>\n",
       "      <td>3.0</td>\n",
       "      <td>2408.0</td>\n",
       "      <td>24353.42</td>\n",
       "      <td>2017254.0</td>\n",
       "      <td>Single Family Residential</td>\n",
       "      <td>261.0</td>\n",
       "      <td>10497.0</td>\n",
       "      <td>Los Angeles County</td>\n",
       "      <td>1.207256</td>\n",
       "    </tr>\n",
       "  </tbody>\n",
       "</table>\n",
       "</div>"
      ],
      "text/plain": [
       "   bedrooms  bathrooms  square_feet  property_tax  house_value  \\\n",
       "0       4.0        2.0       1604.0       6089.82     498347.0   \n",
       "1       3.0        3.0       2384.0       6679.55     549917.0   \n",
       "2       3.0        2.0       1574.0       3876.31     235272.0   \n",
       "3       2.0        2.0       1619.0       4206.15     340000.0   \n",
       "4       2.0        3.0       2408.0      24353.42    2017254.0   \n",
       "\n",
       "        property_description  property_id  lot_size                fips  \\\n",
       "0  Single Family Residential        261.0    6211.0  Los Angeles County   \n",
       "1  Single Family Residential        261.0    9109.0  Los Angeles County   \n",
       "2  Single Family Residential        261.0    7538.0  Los Angeles County   \n",
       "3  Single Family Residential        261.0  111564.0  Los Angeles County   \n",
       "4  Single Family Residential        261.0   10497.0  Los Angeles County   \n",
       "\n",
       "   property_tax_rate  \n",
       "0           1.222004  \n",
       "1           1.214647  \n",
       "2           1.647587  \n",
       "3           1.237103  \n",
       "4           1.207256  "
      ]
     },
     "execution_count": 50,
     "metadata": {},
     "output_type": "execute_result"
    }
   ],
   "source": [
    "zillow_df.head()"
   ]
  },
  {
   "cell_type": "code",
   "execution_count": 51,
   "metadata": {},
   "outputs": [],
   "source": [
    "df = zillow_df[['bedrooms', 'bathrooms', 'square_feet', 'house_value']]\n",
    "X = zillow_df[['bedrooms', 'bathrooms', 'square_feet']]\n",
    "y = zillow_df[['house_value']]"
   ]
  },
  {
   "cell_type": "code",
   "execution_count": 52,
   "metadata": {},
   "outputs": [
    {
     "data": {
      "text/html": [
       "<div>\n",
       "<style scoped>\n",
       "    .dataframe tbody tr th:only-of-type {\n",
       "        vertical-align: middle;\n",
       "    }\n",
       "\n",
       "    .dataframe tbody tr th {\n",
       "        vertical-align: top;\n",
       "    }\n",
       "\n",
       "    .dataframe thead th {\n",
       "        text-align: right;\n",
       "    }\n",
       "</style>\n",
       "<table border=\"1\" class=\"dataframe\">\n",
       "  <thead>\n",
       "    <tr style=\"text-align: right;\">\n",
       "      <th></th>\n",
       "      <th>bedrooms</th>\n",
       "      <th>bathrooms</th>\n",
       "      <th>square_feet</th>\n",
       "      <th>house_value</th>\n",
       "    </tr>\n",
       "  </thead>\n",
       "  <tbody>\n",
       "    <tr>\n",
       "      <th>0</th>\n",
       "      <td>4.0</td>\n",
       "      <td>2.0</td>\n",
       "      <td>1604.0</td>\n",
       "      <td>498347.0</td>\n",
       "    </tr>\n",
       "    <tr>\n",
       "      <th>1</th>\n",
       "      <td>3.0</td>\n",
       "      <td>3.0</td>\n",
       "      <td>2384.0</td>\n",
       "      <td>549917.0</td>\n",
       "    </tr>\n",
       "    <tr>\n",
       "      <th>2</th>\n",
       "      <td>3.0</td>\n",
       "      <td>2.0</td>\n",
       "      <td>1574.0</td>\n",
       "      <td>235272.0</td>\n",
       "    </tr>\n",
       "    <tr>\n",
       "      <th>3</th>\n",
       "      <td>2.0</td>\n",
       "      <td>2.0</td>\n",
       "      <td>1619.0</td>\n",
       "      <td>340000.0</td>\n",
       "    </tr>\n",
       "    <tr>\n",
       "      <th>4</th>\n",
       "      <td>2.0</td>\n",
       "      <td>3.0</td>\n",
       "      <td>2408.0</td>\n",
       "      <td>2017254.0</td>\n",
       "    </tr>\n",
       "  </tbody>\n",
       "</table>\n",
       "</div>"
      ],
      "text/plain": [
       "   bedrooms  bathrooms  square_feet  house_value\n",
       "0       4.0        2.0       1604.0     498347.0\n",
       "1       3.0        3.0       2384.0     549917.0\n",
       "2       3.0        2.0       1574.0     235272.0\n",
       "3       2.0        2.0       1619.0     340000.0\n",
       "4       2.0        3.0       2408.0    2017254.0"
      ]
     },
     "execution_count": 52,
     "metadata": {},
     "output_type": "execute_result"
    }
   ],
   "source": [
    "df.head()"
   ]
  },
  {
   "cell_type": "code",
   "execution_count": 53,
   "metadata": {},
   "outputs": [],
   "source": [
    "import split_scale"
   ]
  },
  {
   "cell_type": "code",
   "execution_count": 54,
   "metadata": {},
   "outputs": [],
   "source": [
    "train, test = split_scale.split_my_data(df)"
   ]
  },
  {
   "cell_type": "markdown",
   "metadata": {},
   "source": [
    "### Scaling data:"
   ]
  },
  {
   "cell_type": "code",
   "execution_count": 55,
   "metadata": {},
   "outputs": [],
   "source": [
    "scaler, train_scaled, test_scaled = split_scale.iqr_robust_scaler(train, test)"
   ]
  },
  {
   "cell_type": "code",
   "execution_count": 56,
   "metadata": {},
   "outputs": [
    {
     "data": {
      "text/html": [
       "<div>\n",
       "<style scoped>\n",
       "    .dataframe tbody tr th:only-of-type {\n",
       "        vertical-align: middle;\n",
       "    }\n",
       "\n",
       "    .dataframe tbody tr th {\n",
       "        vertical-align: top;\n",
       "    }\n",
       "\n",
       "    .dataframe thead th {\n",
       "        text-align: right;\n",
       "    }\n",
       "</style>\n",
       "<table border=\"1\" class=\"dataframe\">\n",
       "  <thead>\n",
       "    <tr style=\"text-align: right;\">\n",
       "      <th></th>\n",
       "      <th>bedrooms</th>\n",
       "      <th>bathrooms</th>\n",
       "      <th>square_feet</th>\n",
       "      <th>house_value</th>\n",
       "    </tr>\n",
       "  </thead>\n",
       "  <tbody>\n",
       "    <tr>\n",
       "      <th>10253</th>\n",
       "      <td>0.0</td>\n",
       "      <td>1.0</td>\n",
       "      <td>1.980541</td>\n",
       "      <td>2.868838</td>\n",
       "    </tr>\n",
       "    <tr>\n",
       "      <th>2317</th>\n",
       "      <td>0.0</td>\n",
       "      <td>-1.0</td>\n",
       "      <td>-0.125405</td>\n",
       "      <td>-0.301693</td>\n",
       "    </tr>\n",
       "    <tr>\n",
       "      <th>1410</th>\n",
       "      <td>0.0</td>\n",
       "      <td>0.0</td>\n",
       "      <td>0.495135</td>\n",
       "      <td>-0.148288</td>\n",
       "    </tr>\n",
       "    <tr>\n",
       "      <th>6906</th>\n",
       "      <td>0.0</td>\n",
       "      <td>0.0</td>\n",
       "      <td>0.475676</td>\n",
       "      <td>0.265497</td>\n",
       "    </tr>\n",
       "    <tr>\n",
       "      <th>2946</th>\n",
       "      <td>0.0</td>\n",
       "      <td>0.0</td>\n",
       "      <td>-0.004324</td>\n",
       "      <td>-0.709416</td>\n",
       "    </tr>\n",
       "  </tbody>\n",
       "</table>\n",
       "</div>"
      ],
      "text/plain": [
       "       bedrooms  bathrooms  square_feet  house_value\n",
       "10253       0.0        1.0     1.980541     2.868838\n",
       "2317        0.0       -1.0    -0.125405    -0.301693\n",
       "1410        0.0        0.0     0.495135    -0.148288\n",
       "6906        0.0        0.0     0.475676     0.265497\n",
       "2946        0.0        0.0    -0.004324    -0.709416"
      ]
     },
     "execution_count": 56,
     "metadata": {},
     "output_type": "execute_result"
    }
   ],
   "source": [
    "train_scaled.head()"
   ]
  },
  {
   "cell_type": "code",
   "execution_count": 57,
   "metadata": {},
   "outputs": [],
   "source": [
    "X_train_scaled = train_scaled[['bedrooms', 'bathrooms', 'square_feet']]\n",
    "y_train = train[['house_value']]"
   ]
  },
  {
   "cell_type": "code",
   "execution_count": 58,
   "metadata": {},
   "outputs": [],
   "source": [
    "X_test = test.drop(columns='house_value')\n",
    "y_test = test[['house_value']]"
   ]
  },
  {
   "cell_type": "code",
   "execution_count": 59,
   "metadata": {},
   "outputs": [
    {
     "data": {
      "text/plain": [
       "bedrooms       0\n",
       "bathrooms      0\n",
       "square_feet    0\n",
       "dtype: int64"
      ]
     },
     "execution_count": 59,
     "metadata": {},
     "output_type": "execute_result"
    }
   ],
   "source": [
    "(X_train_scaled.isnull()).sum()"
   ]
  },
  {
   "cell_type": "markdown",
   "metadata": {},
   "source": [
    "### Exploration:"
   ]
  },
  {
   "cell_type": "code",
   "execution_count": 60,
   "metadata": {},
   "outputs": [
    {
     "data": {
      "image/png": "[encoded data removed]",
      "text/plain": [
       "<Figure size 720x720 with 16 Axes>"
      ]
     },
     "metadata": {
      "needs_background": "light"
     },
     "output_type": "display_data"
    }
   ],
   "source": [
    "# explore_zillow.plot_variable_pairs(df[['bedrooms', 'bathrooms', 'square_feet', 'house_value']])\n",
    "\n",
    "g=sns.PairGrid(df[['bedrooms', 'bathrooms', 'square_feet', 'house_value']])\n",
    "g.map(sns.regplot)\n",
    "plt.show()"
   ]
  },
  {
   "cell_type": "code",
   "execution_count": 61,
   "metadata": {},
   "outputs": [
    {
     "data": {
      "text/plain": [
       "(0, 4)"
      ]
     },
     "execution_count": 61,
     "metadata": {},
     "output_type": "execute_result"
    },
    {
     "data": {
      "image/png": "[encoded data removed]",
      "text/plain": [
       "<Figure size 576x432 with 2 Axes>"
      ]
     },
     "metadata": {
      "needs_background": "light"
     },
     "output_type": "display_data"
    }
   ],
   "source": [
    "plt.figure(figsize=(8,6))\n",
    "sns.heatmap(train_scaled.corr(), cmap='Reds', annot=True)\n",
    "plt.ylim(0, 4)"
   ]
  },
  {
   "cell_type": "code",
   "execution_count": 62,
   "metadata": {},
   "outputs": [
    {
     "data": {
      "text/html": [
       "<table class=\"simpletable\">\n",
       "<caption>OLS Regression Results</caption>\n",
       "<tr>\n",
       "  <th>Dep. Variable:</th>       <td>house_value</td>   <th>  R-squared (uncentered):</th>       <td>   0.413</td>  \n",
       "</tr>\n",
       "<tr>\n",
       "  <th>Model:</th>                   <td>OLS</td>       <th>  Adj. R-squared (uncentered):</th>  <td>   0.413</td>  \n",
       "</tr>\n",
       "<tr>\n",
       "  <th>Method:</th>             <td>Least Squares</td>  <th>  F-statistic:       </th>           <td>   2985.</td>  \n",
       "</tr>\n",
       "<tr>\n",
       "  <th>Date:</th>             <td>Mon, 21 Oct 2019</td> <th>  Prob (F-statistic):</th>            <td>  0.00</td>   \n",
       "</tr>\n",
       "<tr>\n",
       "  <th>Time:</th>                 <td>05:57:16</td>     <th>  Log-Likelihood:    </th>          <td>-1.8794e+05</td>\n",
       "</tr>\n",
       "<tr>\n",
       "  <th>No. Observations:</th>      <td> 12745</td>      <th>  AIC:               </th>           <td>3.759e+05</td> \n",
       "</tr>\n",
       "<tr>\n",
       "  <th>Df Residuals:</th>          <td> 12742</td>      <th>  BIC:               </th>           <td>3.759e+05</td> \n",
       "</tr>\n",
       "<tr>\n",
       "  <th>Df Model:</th>              <td>     3</td>      <th>                     </th>               <td> </td>     \n",
       "</tr>\n",
       "<tr>\n",
       "  <th>Covariance Type:</th>      <td>nonrobust</td>    <th>                     </th>               <td> </td>     \n",
       "</tr>\n",
       "</table>\n",
       "<table class=\"simpletable\">\n",
       "<tr>\n",
       "       <td></td>          <th>coef</th>     <th>std err</th>      <th>t</th>      <th>P>|t|</th>  <th>[0.025</th>    <th>0.975]</th>  \n",
       "</tr>\n",
       "<tr>\n",
       "  <th>bedrooms</th>    <td>-7.587e+04</td> <td> 7576.709</td> <td>  -10.013</td> <td> 0.000</td> <td>-9.07e+04</td> <td> -6.1e+04</td>\n",
       "</tr>\n",
       "<tr>\n",
       "  <th>bathrooms</th>   <td> 1.491e+04</td> <td> 1.04e+04</td> <td>    1.439</td> <td> 0.150</td> <td>-5400.619</td> <td> 3.52e+04</td>\n",
       "</tr>\n",
       "<tr>\n",
       "  <th>square_feet</th> <td> 5.075e+05</td> <td> 9581.810</td> <td>   52.968</td> <td> 0.000</td> <td> 4.89e+05</td> <td> 5.26e+05</td>\n",
       "</tr>\n",
       "</table>\n",
       "<table class=\"simpletable\">\n",
       "<tr>\n",
       "  <th>Omnibus:</th>       <td>16543.554</td> <th>  Durbin-Watson:     </th>   <td>   1.389</td>  \n",
       "</tr>\n",
       "<tr>\n",
       "  <th>Prob(Omnibus):</th>  <td> 0.000</td>   <th>  Jarque-Bera (JB):  </th> <td>10194168.074</td>\n",
       "</tr>\n",
       "<tr>\n",
       "  <th>Skew:</th>           <td> 6.784</td>   <th>  Prob(JB):          </th>   <td>    0.00</td>  \n",
       "</tr>\n",
       "<tr>\n",
       "  <th>Kurtosis:</th>       <td>140.886</td>  <th>  Cond. No.          </th>   <td>    3.90</td>  \n",
       "</tr>\n",
       "</table><br/><br/>Warnings:<br/>[1] Standard Errors assume that the covariance matrix of the errors is correctly specified."
      ],
      "text/plain": [
       "<class 'statsmodels.iolib.summary.Summary'>\n",
       "\"\"\"\n",
       "                                 OLS Regression Results                                \n",
       "=======================================================================================\n",
       "Dep. Variable:            house_value   R-squared (uncentered):                   0.413\n",
       "Model:                            OLS   Adj. R-squared (uncentered):              0.413\n",
       "Method:                 Least Squares   F-statistic:                              2985.\n",
       "Date:                Mon, 21 Oct 2019   Prob (F-statistic):                        0.00\n",
       "Time:                        05:57:16   Log-Likelihood:                     -1.8794e+05\n",
       "No. Observations:               12745   AIC:                                  3.759e+05\n",
       "Df Residuals:                   12742   BIC:                                  3.759e+05\n",
       "Df Model:                           3                                                  \n",
       "Covariance Type:            nonrobust                                                  \n",
       "===============================================================================\n",
       "                  coef    std err          t      P>|t|      [0.025      0.975]\n",
       "-------------------------------------------------------------------------------\n",
       "bedrooms    -7.587e+04   7576.709    -10.013      0.000   -9.07e+04    -6.1e+04\n",
       "bathrooms    1.491e+04   1.04e+04      1.439      0.150   -5400.619    3.52e+04\n",
       "square_feet  5.075e+05   9581.810     52.968      0.000    4.89e+05    5.26e+05\n",
       "==============================================================================\n",
       "Omnibus:                    16543.554   Durbin-Watson:                   1.389\n",
       "Prob(Omnibus):                  0.000   Jarque-Bera (JB):         10194168.074\n",
       "Skew:                           6.784   Prob(JB):                         0.00\n",
       "Kurtosis:                     140.886   Cond. No.                         3.90\n",
       "==============================================================================\n",
       "\n",
       "Warnings:\n",
       "[1] Standard Errors assume that the covariance matrix of the errors is correctly specified.\n",
       "\"\"\""
      ]
     },
     "execution_count": 62,
     "metadata": {},
     "output_type": "execute_result"
    }
   ],
   "source": [
    "import statsmodels.api as sm\n",
    "\n",
    "ols_model = sm.OLS(y_train, X_train_scaled)\n",
    "\n",
    "res = sm.OLS(y_train, X_train_scaled).fit()\n",
    "\n",
    "res.summary()"
   ]
  },
  {
   "cell_type": "markdown",
   "metadata": {},
   "source": [
    "### Regression - Fitting linear model to the Zillow data"
   ]
  },
  {
   "cell_type": "code",
   "execution_count": 63,
   "metadata": {},
   "outputs": [],
   "source": [
    "from sklearn.linear_model import LinearRegression\n",
    "from sklearn import linear_model\n",
    "\n",
    "lm1 = linear_model.BayesianRidge()"
   ]
  },
  {
   "cell_type": "code",
   "execution_count": 64,
   "metadata": {},
   "outputs": [],
   "source": [
    "predictions=pd.DataFrame({'actual':y_train.house_value}).reset_index(drop=True)\n",
    "\n",
    "lm1=LinearRegression()\n",
    "lm1.fit(X_train_scaled[['bedrooms', 'bathrooms', 'square_feet']],y_train)\n",
    "lm1_predictions=lm1.predict(X_train_scaled[['bedrooms', 'bathrooms', 'square_feet']])\n",
    "predictions['lm1']=lm1_predictions"
   ]
  },
  {
   "cell_type": "code",
   "execution_count": 65,
   "metadata": {},
   "outputs": [
    {
     "data": {
      "text/html": [
       "<div>\n",
       "<style scoped>\n",
       "    .dataframe tbody tr th:only-of-type {\n",
       "        vertical-align: middle;\n",
       "    }\n",
       "\n",
       "    .dataframe tbody tr th {\n",
       "        vertical-align: top;\n",
       "    }\n",
       "\n",
       "    .dataframe thead th {\n",
       "        text-align: right;\n",
       "    }\n",
       "</style>\n",
       "<table border=\"1\" class=\"dataframe\">\n",
       "  <thead>\n",
       "    <tr style=\"text-align: right;\">\n",
       "      <th></th>\n",
       "      <th>actual</th>\n",
       "      <th>lm1</th>\n",
       "      <th>baseline</th>\n",
       "    </tr>\n",
       "  </thead>\n",
       "  <tbody>\n",
       "    <tr>\n",
       "      <th>0</th>\n",
       "      <td>1309949.0</td>\n",
       "      <td>1.280955e+06</td>\n",
       "      <td>463822.099098</td>\n",
       "    </tr>\n",
       "    <tr>\n",
       "      <th>1</th>\n",
       "      <td>213982.0</td>\n",
       "      <td>2.666766e+05</td>\n",
       "      <td>463822.099098</td>\n",
       "    </tr>\n",
       "    <tr>\n",
       "      <th>2</th>\n",
       "      <td>267010.0</td>\n",
       "      <td>5.876875e+05</td>\n",
       "      <td>463822.099098</td>\n",
       "    </tr>\n",
       "    <tr>\n",
       "      <th>3</th>\n",
       "      <td>410044.0</td>\n",
       "      <td>5.793118e+05</td>\n",
       "      <td>463822.099098</td>\n",
       "    </tr>\n",
       "    <tr>\n",
       "      <th>4</th>\n",
       "      <td>73043.0</td>\n",
       "      <td>3.727095e+05</td>\n",
       "      <td>463822.099098</td>\n",
       "    </tr>\n",
       "  </tbody>\n",
       "</table>\n",
       "</div>"
      ],
      "text/plain": [
       "      actual           lm1       baseline\n",
       "0  1309949.0  1.280955e+06  463822.099098\n",
       "1   213982.0  2.666766e+05  463822.099098\n",
       "2   267010.0  5.876875e+05  463822.099098\n",
       "3   410044.0  5.793118e+05  463822.099098\n",
       "4    73043.0  3.727095e+05  463822.099098"
      ]
     },
     "execution_count": 65,
     "metadata": {},
     "output_type": "execute_result"
    }
   ],
   "source": [
    "#baseline model\n",
    "predictions['baseline'] = y_train.mean()[0]\n",
    "predictions.head()"
   ]
  },
  {
   "cell_type": "code",
   "execution_count": 66,
   "metadata": {},
   "outputs": [
    {
     "name": "stdout",
     "output_type": "stream",
     "text": [
      "intercept:  [374570.81707382]\n",
      "coefficients:  [[-143407.61505426   53917.04668205  430421.29656301]]\n"
     ]
    }
   ],
   "source": [
    "lm1_y_intercept = lm1.intercept_\n",
    "print(\"intercept: \", lm1_y_intercept)\n",
    "\n",
    "lm1_coefficients = lm1.coef_\n",
    "print(\"coefficients: \", lm1_coefficients)"
   ]
  },
  {
   "cell_type": "code",
   "execution_count": 67,
   "metadata": {},
   "outputs": [
    {
     "name": "stdout",
     "output_type": "stream",
     "text": [
      "house_value = b + m1 * bedrooms + m2 * bathrooms + m3 * square_feet\n",
      "    y-intercept  (b): 374570.82\n",
      "    coefficient (m1): -143407.62\n",
      "    coefficient (m2): 53917.05\n",
      "    coefficient (m3): 430421.30\n"
     ]
    }
   ],
   "source": [
    "print('{} = b + m1 * {} + m2 * {} + m3 * {}'.format(y_train.columns[0], X_train_scaled.columns[0],X_train_scaled.columns[1],X_train_scaled.columns[2]))\n",
    "print('    y-intercept  (b): %.2f' % lm1_y_intercept)\n",
    "print('    coefficient (m1): %.2f' % lm1_coefficients[0][0])\n",
    "print('    coefficient (m2): %.2f' % lm1_coefficients[0][1])\n",
    "print('    coefficient (m3): %.2f' % lm1_coefficients[0][2])"
   ]
  },
  {
   "cell_type": "code",
   "execution_count": 68,
   "metadata": {},
   "outputs": [
    {
     "data": {
      "text/plain": [
       "array([[1280954.69111094],\n",
       "       [ 266676.61320116],\n",
       "       [ 587687.52391259],\n",
       "       ...,\n",
       "       [ 292209.12032608],\n",
       "       [ 302911.48770008],\n",
       "       [ 300030.60946964]])"
      ]
     },
     "execution_count": 68,
     "metadata": {},
     "output_type": "execute_result"
    }
   ],
   "source": [
    "y_pred_lm1 = lm1.predict(X_train_scaled)\n",
    "y_pred_lm1"
   ]
  },
  {
   "cell_type": "code",
   "execution_count": 69,
   "metadata": {},
   "outputs": [
    {
     "name": "stdout",
     "output_type": "stream",
     "text": [
      "linear model\n",
      "  mean squared error: 2.47e+11\n"
     ]
    }
   ],
   "source": [
    "mse_lm1 = mean_squared_error(y_train, y_pred_lm1)\n",
    "print(\"linear model\\n  mean squared error: {:.3}\".format(mse_lm1))"
   ]
  },
  {
   "cell_type": "code",
   "execution_count": 70,
   "metadata": {},
   "outputs": [
    {
     "data": {
      "text/plain": [
       "0.4202979132914685"
      ]
     },
     "execution_count": 70,
     "metadata": {},
     "output_type": "execute_result"
    }
   ],
   "source": [
    "from sklearn.metrics import r2_score\n",
    "r2 = r2_score(y_train, y_pred_lm1)\n",
    "r2\n",
    "# print('  {:.2%} of the variance in the student''s final grade can be explained by the grades on exam 1 and 3.'.format(r2_lm1))"
   ]
  },
  {
   "cell_type": "code",
   "execution_count": 71,
   "metadata": {},
   "outputs": [],
   "source": [
    "from math import sqrt\n",
    "from sklearn.metrics import explained_variance_score\n",
    "from sklearn.metrics import mean_squared_error\n",
    "\n",
    "y_pred_baseline = np.array([y_train.mean()[0]]*len(y_train))\n",
    "MSE = mean_squared_error(y_train, y_pred_baseline)\n",
    "SSE = MSE*len(y_train)\n",
    "RMSE = sqrt(MSE)\n",
    "\n",
    "evs = explained_variance_score(y_train, y_pred_baseline)\n",
    "# print('  {:.2%} of the variance in the student''s final grade can be explained by the grades on exam 1 and 3.'.format(evs))"
   ]
  },
  {
   "cell_type": "code",
   "execution_count": 72,
   "metadata": {},
   "outputs": [],
   "source": [
    "y_train = y_train.house_value"
   ]
  },
  {
   "cell_type": "code",
   "execution_count": 73,
   "metadata": {},
   "outputs": [
    {
     "data": {
      "text/plain": [
       "array([1280954.69111094,  266676.61320116,  587687.52391259, ...,\n",
       "        292209.12032608,  302911.48770008,  300030.60946964])"
      ]
     },
     "execution_count": 73,
     "metadata": {},
     "output_type": "execute_result"
    }
   ],
   "source": [
    "y_pred_lm1.ravel()"
   ]
  },
  {
   "cell_type": "code",
   "execution_count": 74,
   "metadata": {},
   "outputs": [
    {
     "data": {
      "text/plain": [
       "array([463822.09909769, 463822.09909769, 463822.09909769, ...,\n",
       "       463822.09909769, 463822.09909769, 463822.09909769])"
      ]
     },
     "execution_count": 74,
     "metadata": {},
     "output_type": "execute_result"
    }
   ],
   "source": [
    "y_pred_baseline.ravel()"
   ]
  },
  {
   "cell_type": "code",
   "execution_count": 75,
   "metadata": {},
   "outputs": [
    {
     "data": {
      "text/plain": [
       "Text(0.5, 1, 'Predicted vs Actual Zestimate')"
      ]
     },
     "execution_count": 75,
     "metadata": {},
     "output_type": "execute_result"
    },
    {
     "data": {
      "image/png": "[encoded data removed]",
      "text/plain": [
       "<Figure size 455.5x360 with 1 Axes>"
      ]
     },
     "metadata": {
      "needs_background": "light"
     },
     "output_type": "display_data"
    }
   ],
   "source": [
    "pd.DataFrame({'actual': y_train,\n",
    "              'lm1': y_pred_lm1.ravel(),\n",
    "              'lm_baseline': y_pred_baseline.ravel()})\\\n",
    ".melt(id_vars=['actual'], var_name='model', value_name='prediction')\\\n",
    ".pipe((sns.relplot, 'data'), x='actual', y='prediction', hue='model')\n",
    "min = 0\n",
    "max = 6_000_000\n",
    "plt.plot([min, max],[min, max], c='black', ls=':')\n",
    "plt.ylim(min, max)\n",
    "plt.xlim(min, max)\n",
    "plt.title('Predicted vs Actual Zestimate')"
   ]
  },
  {
   "cell_type": "markdown",
   "metadata": {},
   "source": [
    "### How much is explained by model vs how much is noise?  R2\n",
    "New features;\n",
    "\n",
    "    sqft / bedrooms\n",
    "    sqft / bathrooms\n",
    "    \n",
    "Needed to have a model fast.  So why did I chose the features I have??  Because it was easy"
   ]
  },
  {
   "cell_type": "code",
   "execution_count": null,
   "metadata": {},
   "outputs": [],
   "source": []
  }
 ],
 "metadata": {
  "kernelspec": {
   "display_name": "Python 3",
   "language": "python",
   "name": "python3"
  },
  "language_info": {
   "codemirror_mode": {
    "name": "ipython",
    "version": 3
   },
   "file_extension": ".py",
   "mimetype": "text/x-python",
   "name": "python",
   "nbconvert_exporter": "python",
   "pygments_lexer": "ipython3",
   "version": "3.7.3"
  }
 },
 "nbformat": 4,
 "nbformat_minor": 2
}
