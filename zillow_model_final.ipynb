{
 "cells": [
  {
   "cell_type": "code",
   "execution_count": 1,
   "metadata": {},
   "outputs": [],
   "source": [
    "import pandas as pd\n",
    "import numpy as np\n",
    "import seaborn as sns\n",
    "from env import user, password, host\n",
    "\n",
    "import aquire\n",
    "import prep\n",
    "import model\n",
    "\n",
    "from sklearn.metrics import mean_squared_error\n",
    "import matplotlib.pyplot as plt\n",
    "%matplotlib inline\n",
    "import warnings\n",
    "warnings.filterwarnings(action='ignore')"
   ]
  },
  {
   "cell_type": "markdown",
   "metadata": {},
   "source": [
    "# Aquire:\n",
    "### Original zillow database was too large to import , therefore it's much more efficient to observe and prep the data through a SQL statement than it is to import it all into python and observe through pandas."
   ]
  },
  {
   "cell_type": "markdown",
   "metadata": {},
   "source": [
    "Aquired first 10 rows to observe number of columns and types of data in each column."
   ]
  },
  {
   "cell_type": "code",
   "execution_count": 2,
   "metadata": {},
   "outputs": [],
   "source": [
    "df_first_10_rows = aquire.aquire_database()"
   ]
  },
  {
   "cell_type": "code",
   "execution_count": 3,
   "metadata": {},
   "outputs": [
    {
     "data": {
      "text/plain": [
       "(10, 59)"
      ]
     },
     "execution_count": 3,
     "metadata": {},
     "output_type": "execute_result"
    }
   ],
   "source": [
    "df_first_10_rows.shape"
   ]
  },
  {
   "cell_type": "code",
   "execution_count": 4,
   "metadata": {
    "scrolled": true
   },
   "outputs": [
    {
     "name": "stdout",
     "output_type": "stream",
     "text": [
      "<class 'pandas.core.frame.DataFrame'>\n",
      "RangeIndex: 10 entries, 0 to 9\n",
      "Data columns (total 59 columns):\n",
      "id                              10 non-null int64\n",
      "parcelid                        10 non-null int64\n",
      "airconditioningtypeid           0 non-null object\n",
      "architecturalstyletypeid        0 non-null object\n",
      "basementsqft                    0 non-null object\n",
      "bathroomcnt                     10 non-null float64\n",
      "bedroomcnt                      10 non-null float64\n",
      "buildingclasstypeid             5 non-null float64\n",
      "buildingqualitytypeid           3 non-null float64\n",
      "calculatedbathnbr               0 non-null object\n",
      "decktypeid                      0 non-null object\n",
      "finishedfloor1squarefeet        0 non-null object\n",
      "calculatedfinishedsquarefeet    6 non-null float64\n",
      "finishedsquarefeet12            0 non-null object\n",
      "finishedsquarefeet13            0 non-null object\n",
      "finishedsquarefeet15            6 non-null float64\n",
      "finishedsquarefeet50            0 non-null object\n",
      "finishedsquarefeet6             0 non-null object\n",
      "fips                            10 non-null float64\n",
      "fireplacecnt                    0 non-null object\n",
      "fullbathcnt                     0 non-null object\n",
      "garagecarcnt                    0 non-null object\n",
      "garagetotalsqft                 0 non-null object\n",
      "hashottuborspa                  0 non-null object\n",
      "heatingorsystemtypeid           0 non-null object\n",
      "latitude                        10 non-null float64\n",
      "longitude                       10 non-null float64\n",
      "lotsizesquarefeet               9 non-null float64\n",
      "poolcnt                         0 non-null object\n",
      "poolsizesum                     0 non-null object\n",
      "pooltypeid10                    0 non-null object\n",
      "pooltypeid2                     0 non-null object\n",
      "pooltypeid7                     0 non-null object\n",
      "propertycountylandusecode       10 non-null object\n",
      "propertylandusetypeid           10 non-null float64\n",
      "propertyzoningdesc              9 non-null object\n",
      "rawcensustractandblock          10 non-null float64\n",
      "regionidcity                    10 non-null float64\n",
      "regionidcounty                  10 non-null float64\n",
      "regionidneighborhood            4 non-null float64\n",
      "regionidzip                     10 non-null float64\n",
      "roomcnt                         10 non-null float64\n",
      "storytypeid                     0 non-null object\n",
      "threequarterbathnbr             0 non-null object\n",
      "typeconstructiontypeid          0 non-null object\n",
      "unitcnt                         2 non-null float64\n",
      "yardbuildingsqft17              0 non-null object\n",
      "yardbuildingsqft26              0 non-null object\n",
      "yearbuilt                       6 non-null float64\n",
      "numberofstories                 6 non-null float64\n",
      "fireplaceflag                   0 non-null object\n",
      "structuretaxvaluedollarcnt      7 non-null float64\n",
      "taxvaluedollarcnt               10 non-null float64\n",
      "assessmentyear                  10 non-null float64\n",
      "landtaxvaluedollarcnt           10 non-null float64\n",
      "taxamount                       7 non-null float64\n",
      "taxdelinquencyflag              0 non-null object\n",
      "taxdelinquencyyear              0 non-null object\n",
      "censustractandblock             0 non-null object\n",
      "dtypes: float64(25), int64(2), object(32)\n",
      "memory usage: 4.7+ KB\n"
     ]
    }
   ],
   "source": [
    "df_first_10_rows.info()"
   ]
  },
  {
   "cell_type": "markdown",
   "metadata": {},
   "source": [
    "# Prep:\n",
    "### Wrangle FIPS data in order to identify the 3 counties in the dataset.\n",
    "(refer to prep.py for info on how data was wrangled and cleaned)"
   ]
  },
  {
   "cell_type": "code",
   "execution_count": 5,
   "metadata": {},
   "outputs": [],
   "source": [
    "county_df = prep.wrangle_county_fips()"
   ]
  },
  {
   "cell_type": "code",
   "execution_count": 6,
   "metadata": {},
   "outputs": [
    {
     "data": {
      "text/html": [
       "<div>\n",
       "<style scoped>\n",
       "    .dataframe tbody tr th:only-of-type {\n",
       "        vertical-align: middle;\n",
       "    }\n",
       "\n",
       "    .dataframe tbody tr th {\n",
       "        vertical-align: top;\n",
       "    }\n",
       "\n",
       "    .dataframe thead th {\n",
       "        text-align: right;\n",
       "    }\n",
       "</style>\n",
       "<table border=\"1\" class=\"dataframe\">\n",
       "  <thead>\n",
       "    <tr style=\"text-align: right;\">\n",
       "      <th></th>\n",
       "      <th>County</th>\n",
       "    </tr>\n",
       "    <tr>\n",
       "      <th>fips_number</th>\n",
       "      <th></th>\n",
       "    </tr>\n",
       "  </thead>\n",
       "  <tbody>\n",
       "    <tr>\n",
       "      <th>6037</th>\n",
       "      <td>Los Angeles County</td>\n",
       "    </tr>\n",
       "    <tr>\n",
       "      <th>6059</th>\n",
       "      <td>Orange County</td>\n",
       "    </tr>\n",
       "    <tr>\n",
       "      <th>6111</th>\n",
       "      <td>Ventura County</td>\n",
       "    </tr>\n",
       "  </tbody>\n",
       "</table>\n",
       "</div>"
      ],
      "text/plain": [
       "                         County\n",
       "fips_number                    \n",
       "6037         Los Angeles County\n",
       "6059              Orange County\n",
       "6111             Ventura County"
      ]
     },
     "execution_count": 6,
     "metadata": {},
     "output_type": "execute_result"
    }
   ],
   "source": [
    "# 3 Different Counties:  Los Angeles County, Orange County, and Ventura County\n",
    "county_df"
   ]
  },
  {
   "cell_type": "markdown",
   "metadata": {},
   "source": [
    "### Data Visualizations:  Distribution of tax rates by County"
   ]
  },
  {
   "cell_type": "code",
   "execution_count": 7,
   "metadata": {},
   "outputs": [],
   "source": [
    "zillow_df = prep.wrangle_zillow_data()"
   ]
  },
  {
   "cell_type": "code",
   "execution_count": 8,
   "metadata": {},
   "outputs": [],
   "source": [
    "zillow_df['property_tax_rate'] = (zillow_df.property_tax / zillow_df.house_value) * 100"
   ]
  },
  {
   "cell_type": "code",
   "execution_count": 9,
   "metadata": {},
   "outputs": [
    {
     "data": {
      "text/html": [
       "<div>\n",
       "<style scoped>\n",
       "    .dataframe tbody tr th:only-of-type {\n",
       "        vertical-align: middle;\n",
       "    }\n",
       "\n",
       "    .dataframe tbody tr th {\n",
       "        vertical-align: top;\n",
       "    }\n",
       "\n",
       "    .dataframe thead th {\n",
       "        text-align: right;\n",
       "    }\n",
       "</style>\n",
       "<table border=\"1\" class=\"dataframe\">\n",
       "  <thead>\n",
       "    <tr style=\"text-align: right;\">\n",
       "      <th></th>\n",
       "      <th>bedrooms</th>\n",
       "      <th>bathrooms</th>\n",
       "      <th>square_feet</th>\n",
       "      <th>property_tax</th>\n",
       "      <th>house_value</th>\n",
       "      <th>property_description</th>\n",
       "      <th>property_id</th>\n",
       "      <th>lot_size</th>\n",
       "      <th>county</th>\n",
       "      <th>property_tax_rate</th>\n",
       "    </tr>\n",
       "  </thead>\n",
       "  <tbody>\n",
       "    <tr>\n",
       "      <th>0</th>\n",
       "      <td>4.0</td>\n",
       "      <td>2.0</td>\n",
       "      <td>1604.0</td>\n",
       "      <td>6089.82</td>\n",
       "      <td>498347.0</td>\n",
       "      <td>Single Family Residential</td>\n",
       "      <td>261.0</td>\n",
       "      <td>6211.0</td>\n",
       "      <td>Los Angeles County</td>\n",
       "      <td>1.222004</td>\n",
       "    </tr>\n",
       "    <tr>\n",
       "      <th>1</th>\n",
       "      <td>3.0</td>\n",
       "      <td>3.0</td>\n",
       "      <td>2384.0</td>\n",
       "      <td>6679.55</td>\n",
       "      <td>549917.0</td>\n",
       "      <td>Single Family Residential</td>\n",
       "      <td>261.0</td>\n",
       "      <td>9109.0</td>\n",
       "      <td>Los Angeles County</td>\n",
       "      <td>1.214647</td>\n",
       "    </tr>\n",
       "    <tr>\n",
       "      <th>2</th>\n",
       "      <td>3.0</td>\n",
       "      <td>2.0</td>\n",
       "      <td>1574.0</td>\n",
       "      <td>3876.31</td>\n",
       "      <td>235272.0</td>\n",
       "      <td>Single Family Residential</td>\n",
       "      <td>261.0</td>\n",
       "      <td>7538.0</td>\n",
       "      <td>Los Angeles County</td>\n",
       "      <td>1.647587</td>\n",
       "    </tr>\n",
       "    <tr>\n",
       "      <th>3</th>\n",
       "      <td>2.0</td>\n",
       "      <td>2.0</td>\n",
       "      <td>1619.0</td>\n",
       "      <td>4206.15</td>\n",
       "      <td>340000.0</td>\n",
       "      <td>Single Family Residential</td>\n",
       "      <td>261.0</td>\n",
       "      <td>111564.0</td>\n",
       "      <td>Los Angeles County</td>\n",
       "      <td>1.237103</td>\n",
       "    </tr>\n",
       "    <tr>\n",
       "      <th>4</th>\n",
       "      <td>2.0</td>\n",
       "      <td>3.0</td>\n",
       "      <td>2408.0</td>\n",
       "      <td>24353.42</td>\n",
       "      <td>2017254.0</td>\n",
       "      <td>Single Family Residential</td>\n",
       "      <td>261.0</td>\n",
       "      <td>10497.0</td>\n",
       "      <td>Los Angeles County</td>\n",
       "      <td>1.207256</td>\n",
       "    </tr>\n",
       "  </tbody>\n",
       "</table>\n",
       "</div>"
      ],
      "text/plain": [
       "   bedrooms  bathrooms  square_feet  property_tax  house_value  \\\n",
       "0       4.0        2.0       1604.0       6089.82     498347.0   \n",
       "1       3.0        3.0       2384.0       6679.55     549917.0   \n",
       "2       3.0        2.0       1574.0       3876.31     235272.0   \n",
       "3       2.0        2.0       1619.0       4206.15     340000.0   \n",
       "4       2.0        3.0       2408.0      24353.42    2017254.0   \n",
       "\n",
       "        property_description  property_id  lot_size              county  \\\n",
       "0  Single Family Residential        261.0    6211.0  Los Angeles County   \n",
       "1  Single Family Residential        261.0    9109.0  Los Angeles County   \n",
       "2  Single Family Residential        261.0    7538.0  Los Angeles County   \n",
       "3  Single Family Residential        261.0  111564.0  Los Angeles County   \n",
       "4  Single Family Residential        261.0   10497.0  Los Angeles County   \n",
       "\n",
       "   property_tax_rate  \n",
       "0           1.222004  \n",
       "1           1.214647  \n",
       "2           1.647587  \n",
       "3           1.237103  \n",
       "4           1.207256  "
      ]
     },
     "execution_count": 9,
     "metadata": {},
     "output_type": "execute_result"
    }
   ],
   "source": [
    "zillow_df.head()"
   ]
  },
  {
   "cell_type": "code",
   "execution_count": 10,
   "metadata": {},
   "outputs": [
    {
     "data": {
      "text/html": [
       "<div>\n",
       "<style scoped>\n",
       "    .dataframe tbody tr th:only-of-type {\n",
       "        vertical-align: middle;\n",
       "    }\n",
       "\n",
       "    .dataframe tbody tr th {\n",
       "        vertical-align: top;\n",
       "    }\n",
       "\n",
       "    .dataframe thead th {\n",
       "        text-align: right;\n",
       "    }\n",
       "</style>\n",
       "<table border=\"1\" class=\"dataframe\">\n",
       "  <thead>\n",
       "    <tr style=\"text-align: right;\">\n",
       "      <th></th>\n",
       "      <th>bedrooms</th>\n",
       "      <th>bathrooms</th>\n",
       "      <th>square_feet</th>\n",
       "      <th>property_tax</th>\n",
       "      <th>house_value</th>\n",
       "      <th>property_description</th>\n",
       "      <th>property_id</th>\n",
       "      <th>lot_size</th>\n",
       "      <th>county</th>\n",
       "      <th>property_tax_rate</th>\n",
       "    </tr>\n",
       "  </thead>\n",
       "  <tbody>\n",
       "    <tr>\n",
       "      <th>0</th>\n",
       "      <td>4.0</td>\n",
       "      <td>2.0</td>\n",
       "      <td>1604.0</td>\n",
       "      <td>6089.82</td>\n",
       "      <td>498347.0</td>\n",
       "      <td>Single Family Residential</td>\n",
       "      <td>261.0</td>\n",
       "      <td>6211.0</td>\n",
       "      <td>Los Angeles County</td>\n",
       "      <td>1.222004</td>\n",
       "    </tr>\n",
       "    <tr>\n",
       "      <th>1</th>\n",
       "      <td>3.0</td>\n",
       "      <td>3.0</td>\n",
       "      <td>2384.0</td>\n",
       "      <td>6679.55</td>\n",
       "      <td>549917.0</td>\n",
       "      <td>Single Family Residential</td>\n",
       "      <td>261.0</td>\n",
       "      <td>9109.0</td>\n",
       "      <td>Los Angeles County</td>\n",
       "      <td>1.214647</td>\n",
       "    </tr>\n",
       "    <tr>\n",
       "      <th>2</th>\n",
       "      <td>3.0</td>\n",
       "      <td>2.0</td>\n",
       "      <td>1574.0</td>\n",
       "      <td>3876.31</td>\n",
       "      <td>235272.0</td>\n",
       "      <td>Single Family Residential</td>\n",
       "      <td>261.0</td>\n",
       "      <td>7538.0</td>\n",
       "      <td>Los Angeles County</td>\n",
       "      <td>1.647587</td>\n",
       "    </tr>\n",
       "    <tr>\n",
       "      <th>3</th>\n",
       "      <td>2.0</td>\n",
       "      <td>2.0</td>\n",
       "      <td>1619.0</td>\n",
       "      <td>4206.15</td>\n",
       "      <td>340000.0</td>\n",
       "      <td>Single Family Residential</td>\n",
       "      <td>261.0</td>\n",
       "      <td>111564.0</td>\n",
       "      <td>Los Angeles County</td>\n",
       "      <td>1.237103</td>\n",
       "    </tr>\n",
       "    <tr>\n",
       "      <th>4</th>\n",
       "      <td>2.0</td>\n",
       "      <td>3.0</td>\n",
       "      <td>2408.0</td>\n",
       "      <td>24353.42</td>\n",
       "      <td>2017254.0</td>\n",
       "      <td>Single Family Residential</td>\n",
       "      <td>261.0</td>\n",
       "      <td>10497.0</td>\n",
       "      <td>Los Angeles County</td>\n",
       "      <td>1.207256</td>\n",
       "    </tr>\n",
       "  </tbody>\n",
       "</table>\n",
       "</div>"
      ],
      "text/plain": [
       "   bedrooms  bathrooms  square_feet  property_tax  house_value  \\\n",
       "0       4.0        2.0       1604.0       6089.82     498347.0   \n",
       "1       3.0        3.0       2384.0       6679.55     549917.0   \n",
       "2       3.0        2.0       1574.0       3876.31     235272.0   \n",
       "3       2.0        2.0       1619.0       4206.15     340000.0   \n",
       "4       2.0        3.0       2408.0      24353.42    2017254.0   \n",
       "\n",
       "        property_description  property_id  lot_size              county  \\\n",
       "0  Single Family Residential        261.0    6211.0  Los Angeles County   \n",
       "1  Single Family Residential        261.0    9109.0  Los Angeles County   \n",
       "2  Single Family Residential        261.0    7538.0  Los Angeles County   \n",
       "3  Single Family Residential        261.0  111564.0  Los Angeles County   \n",
       "4  Single Family Residential        261.0   10497.0  Los Angeles County   \n",
       "\n",
       "   property_tax_rate  \n",
       "0           1.222004  \n",
       "1           1.214647  \n",
       "2           1.647587  \n",
       "3           1.237103  \n",
       "4           1.207256  "
      ]
     },
     "execution_count": 10,
     "metadata": {},
     "output_type": "execute_result"
    }
   ],
   "source": [
    "la_county_tax_rates = zillow_df.property_tax_rate[zillow_df.county == 'Los Angeles County']\n",
    "orange_county_tax_rates = zillow_df.property_tax_rate[zillow_df.county == 'Orange County']\n",
    "ventura_county_tax_rates = zillow_df.property_tax_rate[zillow_df.county == 'Ventura County']\n",
    "zillow_df.head()"
   ]
  },
  {
   "cell_type": "code",
   "execution_count": 11,
   "metadata": {},
   "outputs": [
    {
     "data": {
      "image/png": "[encoded data removed]",
      "text/plain": [
       "<Figure size 432x288 with 1 Axes>"
      ]
     },
     "metadata": {
      "needs_background": "light"
     },
     "output_type": "display_data"
    }
   ],
   "source": [
    "la_county_tax_rates_distplot = sns.distplot(la_county_tax_rates)"
   ]
  },
  {
   "cell_type": "code",
   "execution_count": 12,
   "metadata": {},
   "outputs": [
    {
     "data": {
      "image/png": "[encoded data removed]",
      "text/plain": [
       "<Figure size 432x288 with 1 Axes>"
      ]
     },
     "metadata": {
      "needs_background": "light"
     },
     "output_type": "display_data"
    }
   ],
   "source": [
    "orange_county_tax_rates_displot = sns.distplot(orange_county_tax_rates)"
   ]
  },
  {
   "cell_type": "code",
   "execution_count": 13,
   "metadata": {},
   "outputs": [
    {
     "data": {
      "image/png": "[encoded data removed]",
      "text/plain": [
       "<Figure size 432x288 with 1 Axes>"
      ]
     },
     "metadata": {
      "needs_background": "light"
     },
     "output_type": "display_data"
    }
   ],
   "source": [
    "ventura_county_tax_rates_displot = sns.distplot(ventura_county_tax_rates)"
   ]
  },
  {
   "cell_type": "markdown",
   "metadata": {},
   "source": [
    "### Using prep.py, extract the zillow database data for houses that were listed as 'Single Family Residential' and purchased between 05-01-2017 and 06-30-2017."
   ]
  },
  {
   "cell_type": "code",
   "execution_count": 14,
   "metadata": {},
   "outputs": [],
   "source": [
    "zillow_df = prep.wrangle_zillow_data()"
   ]
  },
  {
   "cell_type": "markdown",
   "metadata": {},
   "source": [
    "### Bedroom count, bathroom count, and square footage of the house were the first choice of features in order to predict the value of the house.  After the first iteration, lot size minus the house square footage was used in order to compare the lot size to the size of the house, and thus increase the explained sum of squares."
   ]
  },
  {
   "cell_type": "markdown",
   "metadata": {},
   "source": [
    "Data Dictionary for column names (original SQL column name = alias).\n",
    "\n",
    "bedroomcnt = bedrooms\n",
    "\n",
    "bathroomcnt = bathrooms\n",
    "\n",
    "taxamount = property_tax\n",
    "\n",
    "taxvaluedollarcnt = house_value\n",
    "\n",
    "propertylandusedesc = property_description\n",
    "\n",
    "propertylandusetypeid = property_id\n",
    "\n",
    "lotsizesquarefeet = lot_size\n",
    "\n",
    "lot_size_minus_sqft = lot_size - square_feet\n",
    "\n",
    "property_tax_rate = property_tax / house_value\n"
   ]
  },
  {
   "cell_type": "markdown",
   "metadata": {},
   "source": [
    "#### Add property tax rate column by dividing property tax by house_value"
   ]
  },
  {
   "cell_type": "code",
   "execution_count": 15,
   "metadata": {},
   "outputs": [],
   "source": [
    "zillow_df['property_tax_rate'] = (zillow_df.property_tax / zillow_df.house_value) * 100"
   ]
  },
  {
   "cell_type": "code",
   "execution_count": 16,
   "metadata": {
    "scrolled": true
   },
   "outputs": [
    {
     "data": {
      "text/html": [
       "<div>\n",
       "<style scoped>\n",
       "    .dataframe tbody tr th:only-of-type {\n",
       "        vertical-align: middle;\n",
       "    }\n",
       "\n",
       "    .dataframe tbody tr th {\n",
       "        vertical-align: top;\n",
       "    }\n",
       "\n",
       "    .dataframe thead th {\n",
       "        text-align: right;\n",
       "    }\n",
       "</style>\n",
       "<table border=\"1\" class=\"dataframe\">\n",
       "  <thead>\n",
       "    <tr style=\"text-align: right;\">\n",
       "      <th></th>\n",
       "      <th>bedrooms</th>\n",
       "      <th>bathrooms</th>\n",
       "      <th>square_feet</th>\n",
       "      <th>property_tax</th>\n",
       "      <th>house_value</th>\n",
       "      <th>property_description</th>\n",
       "      <th>property_id</th>\n",
       "      <th>lot_size</th>\n",
       "      <th>county</th>\n",
       "      <th>property_tax_rate</th>\n",
       "    </tr>\n",
       "  </thead>\n",
       "  <tbody>\n",
       "    <tr>\n",
       "      <th>0</th>\n",
       "      <td>4.0</td>\n",
       "      <td>2.0</td>\n",
       "      <td>1604.0</td>\n",
       "      <td>6089.82</td>\n",
       "      <td>498347.0</td>\n",
       "      <td>Single Family Residential</td>\n",
       "      <td>261.0</td>\n",
       "      <td>6211.0</td>\n",
       "      <td>Los Angeles County</td>\n",
       "      <td>1.222004</td>\n",
       "    </tr>\n",
       "    <tr>\n",
       "      <th>1</th>\n",
       "      <td>3.0</td>\n",
       "      <td>3.0</td>\n",
       "      <td>2384.0</td>\n",
       "      <td>6679.55</td>\n",
       "      <td>549917.0</td>\n",
       "      <td>Single Family Residential</td>\n",
       "      <td>261.0</td>\n",
       "      <td>9109.0</td>\n",
       "      <td>Los Angeles County</td>\n",
       "      <td>1.214647</td>\n",
       "    </tr>\n",
       "    <tr>\n",
       "      <th>2</th>\n",
       "      <td>3.0</td>\n",
       "      <td>2.0</td>\n",
       "      <td>1574.0</td>\n",
       "      <td>3876.31</td>\n",
       "      <td>235272.0</td>\n",
       "      <td>Single Family Residential</td>\n",
       "      <td>261.0</td>\n",
       "      <td>7538.0</td>\n",
       "      <td>Los Angeles County</td>\n",
       "      <td>1.647587</td>\n",
       "    </tr>\n",
       "    <tr>\n",
       "      <th>3</th>\n",
       "      <td>2.0</td>\n",
       "      <td>2.0</td>\n",
       "      <td>1619.0</td>\n",
       "      <td>4206.15</td>\n",
       "      <td>340000.0</td>\n",
       "      <td>Single Family Residential</td>\n",
       "      <td>261.0</td>\n",
       "      <td>111564.0</td>\n",
       "      <td>Los Angeles County</td>\n",
       "      <td>1.237103</td>\n",
       "    </tr>\n",
       "    <tr>\n",
       "      <th>4</th>\n",
       "      <td>2.0</td>\n",
       "      <td>3.0</td>\n",
       "      <td>2408.0</td>\n",
       "      <td>24353.42</td>\n",
       "      <td>2017254.0</td>\n",
       "      <td>Single Family Residential</td>\n",
       "      <td>261.0</td>\n",
       "      <td>10497.0</td>\n",
       "      <td>Los Angeles County</td>\n",
       "      <td>1.207256</td>\n",
       "    </tr>\n",
       "  </tbody>\n",
       "</table>\n",
       "</div>"
      ],
      "text/plain": [
       "   bedrooms  bathrooms  square_feet  property_tax  house_value  \\\n",
       "0       4.0        2.0       1604.0       6089.82     498347.0   \n",
       "1       3.0        3.0       2384.0       6679.55     549917.0   \n",
       "2       3.0        2.0       1574.0       3876.31     235272.0   \n",
       "3       2.0        2.0       1619.0       4206.15     340000.0   \n",
       "4       2.0        3.0       2408.0      24353.42    2017254.0   \n",
       "\n",
       "        property_description  property_id  lot_size              county  \\\n",
       "0  Single Family Residential        261.0    6211.0  Los Angeles County   \n",
       "1  Single Family Residential        261.0    9109.0  Los Angeles County   \n",
       "2  Single Family Residential        261.0    7538.0  Los Angeles County   \n",
       "3  Single Family Residential        261.0  111564.0  Los Angeles County   \n",
       "4  Single Family Residential        261.0   10497.0  Los Angeles County   \n",
       "\n",
       "   property_tax_rate  \n",
       "0           1.222004  \n",
       "1           1.214647  \n",
       "2           1.647587  \n",
       "3           1.237103  \n",
       "4           1.207256  "
      ]
     },
     "execution_count": 16,
     "metadata": {},
     "output_type": "execute_result"
    }
   ],
   "source": [
    "zillow_df.head()"
   ]
  },
  {
   "cell_type": "code",
   "execution_count": 17,
   "metadata": {},
   "outputs": [],
   "source": [
    "zillow_df['lot_size_minus_sqft'] = zillow_df['lot_size'] - zillow_df['square_feet']"
   ]
  },
  {
   "cell_type": "code",
   "execution_count": 18,
   "metadata": {
    "scrolled": true
   },
   "outputs": [
    {
     "data": {
      "text/html": [
       "<div>\n",
       "<style scoped>\n",
       "    .dataframe tbody tr th:only-of-type {\n",
       "        vertical-align: middle;\n",
       "    }\n",
       "\n",
       "    .dataframe tbody tr th {\n",
       "        vertical-align: top;\n",
       "    }\n",
       "\n",
       "    .dataframe thead th {\n",
       "        text-align: right;\n",
       "    }\n",
       "</style>\n",
       "<table border=\"1\" class=\"dataframe\">\n",
       "  <thead>\n",
       "    <tr style=\"text-align: right;\">\n",
       "      <th></th>\n",
       "      <th>bedrooms</th>\n",
       "      <th>bathrooms</th>\n",
       "      <th>square_feet</th>\n",
       "      <th>property_tax</th>\n",
       "      <th>house_value</th>\n",
       "      <th>property_description</th>\n",
       "      <th>property_id</th>\n",
       "      <th>lot_size</th>\n",
       "      <th>county</th>\n",
       "      <th>property_tax_rate</th>\n",
       "      <th>lot_size_minus_sqft</th>\n",
       "    </tr>\n",
       "  </thead>\n",
       "  <tbody>\n",
       "    <tr>\n",
       "      <th>0</th>\n",
       "      <td>4.0</td>\n",
       "      <td>2.0</td>\n",
       "      <td>1604.0</td>\n",
       "      <td>6089.82</td>\n",
       "      <td>498347.0</td>\n",
       "      <td>Single Family Residential</td>\n",
       "      <td>261.0</td>\n",
       "      <td>6211.0</td>\n",
       "      <td>Los Angeles County</td>\n",
       "      <td>1.222004</td>\n",
       "      <td>4607.0</td>\n",
       "    </tr>\n",
       "    <tr>\n",
       "      <th>1</th>\n",
       "      <td>3.0</td>\n",
       "      <td>3.0</td>\n",
       "      <td>2384.0</td>\n",
       "      <td>6679.55</td>\n",
       "      <td>549917.0</td>\n",
       "      <td>Single Family Residential</td>\n",
       "      <td>261.0</td>\n",
       "      <td>9109.0</td>\n",
       "      <td>Los Angeles County</td>\n",
       "      <td>1.214647</td>\n",
       "      <td>6725.0</td>\n",
       "    </tr>\n",
       "    <tr>\n",
       "      <th>2</th>\n",
       "      <td>3.0</td>\n",
       "      <td>2.0</td>\n",
       "      <td>1574.0</td>\n",
       "      <td>3876.31</td>\n",
       "      <td>235272.0</td>\n",
       "      <td>Single Family Residential</td>\n",
       "      <td>261.0</td>\n",
       "      <td>7538.0</td>\n",
       "      <td>Los Angeles County</td>\n",
       "      <td>1.647587</td>\n",
       "      <td>5964.0</td>\n",
       "    </tr>\n",
       "    <tr>\n",
       "      <th>3</th>\n",
       "      <td>2.0</td>\n",
       "      <td>2.0</td>\n",
       "      <td>1619.0</td>\n",
       "      <td>4206.15</td>\n",
       "      <td>340000.0</td>\n",
       "      <td>Single Family Residential</td>\n",
       "      <td>261.0</td>\n",
       "      <td>111564.0</td>\n",
       "      <td>Los Angeles County</td>\n",
       "      <td>1.237103</td>\n",
       "      <td>109945.0</td>\n",
       "    </tr>\n",
       "    <tr>\n",
       "      <th>4</th>\n",
       "      <td>2.0</td>\n",
       "      <td>3.0</td>\n",
       "      <td>2408.0</td>\n",
       "      <td>24353.42</td>\n",
       "      <td>2017254.0</td>\n",
       "      <td>Single Family Residential</td>\n",
       "      <td>261.0</td>\n",
       "      <td>10497.0</td>\n",
       "      <td>Los Angeles County</td>\n",
       "      <td>1.207256</td>\n",
       "      <td>8089.0</td>\n",
       "    </tr>\n",
       "  </tbody>\n",
       "</table>\n",
       "</div>"
      ],
      "text/plain": [
       "   bedrooms  bathrooms  square_feet  property_tax  house_value  \\\n",
       "0       4.0        2.0       1604.0       6089.82     498347.0   \n",
       "1       3.0        3.0       2384.0       6679.55     549917.0   \n",
       "2       3.0        2.0       1574.0       3876.31     235272.0   \n",
       "3       2.0        2.0       1619.0       4206.15     340000.0   \n",
       "4       2.0        3.0       2408.0      24353.42    2017254.0   \n",
       "\n",
       "        property_description  property_id  lot_size              county  \\\n",
       "0  Single Family Residential        261.0    6211.0  Los Angeles County   \n",
       "1  Single Family Residential        261.0    9109.0  Los Angeles County   \n",
       "2  Single Family Residential        261.0    7538.0  Los Angeles County   \n",
       "3  Single Family Residential        261.0  111564.0  Los Angeles County   \n",
       "4  Single Family Residential        261.0   10497.0  Los Angeles County   \n",
       "\n",
       "   property_tax_rate  lot_size_minus_sqft  \n",
       "0           1.222004               4607.0  \n",
       "1           1.214647               6725.0  \n",
       "2           1.647587               5964.0  \n",
       "3           1.237103             109945.0  \n",
       "4           1.207256               8089.0  "
      ]
     },
     "execution_count": 18,
     "metadata": {},
     "output_type": "execute_result"
    }
   ],
   "source": [
    "zillow_df.head()"
   ]
  },
  {
   "cell_type": "code",
   "execution_count": 19,
   "metadata": {},
   "outputs": [],
   "source": [
    "zillow_df = zillow_df[zillow_df.loc[:]!=0].dropna()"
   ]
  },
  {
   "cell_type": "markdown",
   "metadata": {},
   "source": [
    "# Split & Scale:\n",
    "### Prepare data to be split and scaled by selecting the columns to be used."
   ]
  },
  {
   "cell_type": "code",
   "execution_count": 20,
   "metadata": {},
   "outputs": [],
   "source": [
    "df = zillow_df[['bedrooms', 'bathrooms', 'square_feet', 'lot_size_minus_sqft', 'house_value']]\n",
    "X = zillow_df[['bedrooms', 'bathrooms', 'square_feet', 'lot_size_minus_sqft']]\n",
    "y = zillow_df[['house_value']]"
   ]
  },
  {
   "cell_type": "code",
   "execution_count": 21,
   "metadata": {},
   "outputs": [],
   "source": [
    "import split_scale"
   ]
  },
  {
   "cell_type": "markdown",
   "metadata": {},
   "source": [
    "### In this case, the standard_scaler function was used from the sklearn library and is located in the split_scale.py file"
   ]
  },
  {
   "cell_type": "code",
   "execution_count": 22,
   "metadata": {},
   "outputs": [],
   "source": [
    "train, test = split_scale.split_my_data(df)"
   ]
  },
  {
   "cell_type": "code",
   "execution_count": 23,
   "metadata": {},
   "outputs": [],
   "source": [
    "scaler, train_scaled, test_scaled = split_scale.iqr_robust_scaler(train, test)"
   ]
  },
  {
   "cell_type": "code",
   "execution_count": 24,
   "metadata": {},
   "outputs": [
    {
     "data": {
      "text/html": [
       "<div>\n",
       "<style scoped>\n",
       "    .dataframe tbody tr th:only-of-type {\n",
       "        vertical-align: middle;\n",
       "    }\n",
       "\n",
       "    .dataframe tbody tr th {\n",
       "        vertical-align: top;\n",
       "    }\n",
       "\n",
       "    .dataframe thead th {\n",
       "        text-align: right;\n",
       "    }\n",
       "</style>\n",
       "<table border=\"1\" class=\"dataframe\">\n",
       "  <thead>\n",
       "    <tr style=\"text-align: right;\">\n",
       "      <th></th>\n",
       "      <th>bedrooms</th>\n",
       "      <th>bathrooms</th>\n",
       "      <th>square_feet</th>\n",
       "      <th>lot_size_minus_sqft</th>\n",
       "      <th>house_value</th>\n",
       "    </tr>\n",
       "  </thead>\n",
       "  <tbody>\n",
       "    <tr>\n",
       "      <th>11303</th>\n",
       "      <td>-1.0</td>\n",
       "      <td>0.0</td>\n",
       "      <td>-0.508493</td>\n",
       "      <td>-0.050623</td>\n",
       "      <td>-0.750403</td>\n",
       "    </tr>\n",
       "    <tr>\n",
       "      <th>7952</th>\n",
       "      <td>0.0</td>\n",
       "      <td>-1.0</td>\n",
       "      <td>0.601911</td>\n",
       "      <td>0.483189</td>\n",
       "      <td>0.323339</td>\n",
       "    </tr>\n",
       "    <tr>\n",
       "      <th>9828</th>\n",
       "      <td>1.0</td>\n",
       "      <td>2.0</td>\n",
       "      <td>2.188960</td>\n",
       "      <td>4.323007</td>\n",
       "      <td>2.312186</td>\n",
       "    </tr>\n",
       "    <tr>\n",
       "      <th>9382</th>\n",
       "      <td>-1.0</td>\n",
       "      <td>1.0</td>\n",
       "      <td>1.564756</td>\n",
       "      <td>0.142803</td>\n",
       "      <td>12.105417</td>\n",
       "    </tr>\n",
       "    <tr>\n",
       "      <th>13102</th>\n",
       "      <td>1.0</td>\n",
       "      <td>0.0</td>\n",
       "      <td>0.164544</td>\n",
       "      <td>0.564790</td>\n",
       "      <td>0.046723</td>\n",
       "    </tr>\n",
       "  </tbody>\n",
       "</table>\n",
       "</div>"
      ],
      "text/plain": [
       "       bedrooms  bathrooms  square_feet  lot_size_minus_sqft  house_value\n",
       "11303      -1.0        0.0    -0.508493            -0.050623    -0.750403\n",
       "7952        0.0       -1.0     0.601911             0.483189     0.323339\n",
       "9828        1.0        2.0     2.188960             4.323007     2.312186\n",
       "9382       -1.0        1.0     1.564756             0.142803    12.105417\n",
       "13102       1.0        0.0     0.164544             0.564790     0.046723"
      ]
     },
     "execution_count": 24,
     "metadata": {},
     "output_type": "execute_result"
    }
   ],
   "source": [
    "train_scaled.head()"
   ]
  },
  {
   "cell_type": "code",
   "execution_count": 25,
   "metadata": {},
   "outputs": [],
   "source": [
    "X_train_scaled = train_scaled[['bedrooms', 'bathrooms', 'square_feet', 'lot_size_minus_sqft']]\n",
    "y_train = train[['house_value']]"
   ]
  },
  {
   "cell_type": "code",
   "execution_count": 26,
   "metadata": {},
   "outputs": [],
   "source": [
    "X_test = test_scaled.drop(columns='house_value')\n",
    "y_test = test[['house_value']]"
   ]
  },
  {
   "cell_type": "markdown",
   "metadata": {},
   "source": [
    "### Below, a pairplot and a heatmap were used as visualizations in order to see the relationships between the trained and scaled data.  "
   ]
  },
  {
   "cell_type": "code",
   "execution_count": 27,
   "metadata": {},
   "outputs": [
    {
     "data": {
      "text/plain": [
       "<seaborn.axisgrid.PairGrid at 0x1a23de59e8>"
      ]
     },
     "execution_count": 27,
     "metadata": {},
     "output_type": "execute_result"
    },
    {
     "data": {
      "image/png": "[encoded data removed]",
      "text/plain": [
       "<Figure size 900x900 with 30 Axes>"
      ]
     },
     "metadata": {
      "needs_background": "light"
     },
     "output_type": "display_data"
    }
   ],
   "source": [
    "sns.pairplot(df)"
   ]
  },
  {
   "cell_type": "code",
   "execution_count": 28,
   "metadata": {},
   "outputs": [
    {
     "data": {
      "text/plain": [
       "(0, 4)"
      ]
     },
     "execution_count": 28,
     "metadata": {},
     "output_type": "execute_result"
    },
    {
     "data": {
      "image/png": "[encoded data removed]",
      "text/plain": [
       "<Figure size 576x432 with 2 Axes>"
      ]
     },
     "metadata": {
      "needs_background": "light"
     },
     "output_type": "display_data"
    }
   ],
   "source": [
    "plt.figure(figsize=(8,6))\n",
    "sns.heatmap(train.corr(), cmap='Reds', annot=True)\n",
    "plt.ylim(0, 4)"
   ]
  },
  {
   "cell_type": "markdown",
   "metadata": {},
   "source": [
    "### Using sm.OLS from the statsmodels.api library, a summary can be printed out showing the R-squared value, p-values, coefficients for our regression line, etc."
   ]
  },
  {
   "cell_type": "code",
   "execution_count": 40,
   "metadata": {},
   "outputs": [
    {
     "data": {
      "text/html": [
       "<table class=\"simpletable\">\n",
       "<caption>OLS Regression Results</caption>\n",
       "<tr>\n",
       "  <th>Dep. Variable:</th>       <td>house_value</td>   <th>  R-squared (uncentered):</th>       <td>   0.414</td>  \n",
       "</tr>\n",
       "<tr>\n",
       "  <th>Model:</th>                   <td>OLS</td>       <th>  Adj. R-squared (uncentered):</th>  <td>   0.414</td>  \n",
       "</tr>\n",
       "<tr>\n",
       "  <th>Method:</th>             <td>Least Squares</td>  <th>  F-statistic:       </th>           <td>   2244.</td>  \n",
       "</tr>\n",
       "<tr>\n",
       "  <th>Date:</th>             <td>Mon, 21 Oct 2019</td> <th>  Prob (F-statistic):</th>            <td>  0.00</td>   \n",
       "</tr>\n",
       "<tr>\n",
       "  <th>Time:</th>                 <td>01:46:58</td>     <th>  Log-Likelihood:    </th>          <td>-1.8724e+05</td>\n",
       "</tr>\n",
       "<tr>\n",
       "  <th>No. Observations:</th>      <td> 12705</td>      <th>  AIC:               </th>           <td>3.745e+05</td> \n",
       "</tr>\n",
       "<tr>\n",
       "  <th>Df Residuals:</th>          <td> 12701</td>      <th>  BIC:               </th>           <td>3.745e+05</td> \n",
       "</tr>\n",
       "<tr>\n",
       "  <th>Df Model:</th>              <td>     4</td>      <th>                     </th>               <td> </td>     \n",
       "</tr>\n",
       "<tr>\n",
       "  <th>Covariance Type:</th>      <td>nonrobust</td>    <th>                     </th>               <td> </td>     \n",
       "</tr>\n",
       "</table>\n",
       "<table class=\"simpletable\">\n",
       "<tr>\n",
       "           <td></td>              <th>coef</th>     <th>std err</th>      <th>t</th>      <th>P>|t|</th>  <th>[0.025</th>    <th>0.975]</th>  \n",
       "</tr>\n",
       "<tr>\n",
       "  <th>bedrooms</th>            <td>-6.759e+04</td> <td> 7615.318</td> <td>   -8.875</td> <td> 0.000</td> <td>-8.25e+04</td> <td>-5.27e+04</td>\n",
       "</tr>\n",
       "<tr>\n",
       "  <th>bathrooms</th>           <td> 3627.4764</td> <td> 1.05e+04</td> <td>    0.346</td> <td> 0.729</td> <td>-1.69e+04</td> <td> 2.42e+04</td>\n",
       "</tr>\n",
       "<tr>\n",
       "  <th>square_feet</th>         <td> 5.177e+05</td> <td> 9964.879</td> <td>   51.954</td> <td> 0.000</td> <td> 4.98e+05</td> <td> 5.37e+05</td>\n",
       "</tr>\n",
       "<tr>\n",
       "  <th>lot_size_minus_sqft</th> <td>  902.2131</td> <td>  213.921</td> <td>    4.217</td> <td> 0.000</td> <td>  482.895</td> <td> 1321.531</td>\n",
       "</tr>\n",
       "</table>\n",
       "<table class=\"simpletable\">\n",
       "<tr>\n",
       "  <th>Omnibus:</th>       <td>15912.756</td> <th>  Durbin-Watson:     </th>  <td>   1.349</td>  \n",
       "</tr>\n",
       "<tr>\n",
       "  <th>Prob(Omnibus):</th>  <td> 0.000</td>   <th>  Jarque-Bera (JB):  </th> <td>7688985.950</td>\n",
       "</tr>\n",
       "<tr>\n",
       "  <th>Skew:</th>           <td> 6.409</td>   <th>  Prob(JB):          </th>  <td>    0.00</td>  \n",
       "</tr>\n",
       "<tr>\n",
       "  <th>Kurtosis:</th>       <td>122.835</td>  <th>  Cond. No.          </th>  <td>    63.3</td>  \n",
       "</tr>\n",
       "</table><br/><br/>Warnings:<br/>[1] Standard Errors assume that the covariance matrix of the errors is correctly specified."
      ],
      "text/plain": [
       "<class 'statsmodels.iolib.summary.Summary'>\n",
       "\"\"\"\n",
       "                                 OLS Regression Results                                \n",
       "=======================================================================================\n",
       "Dep. Variable:            house_value   R-squared (uncentered):                   0.414\n",
       "Model:                            OLS   Adj. R-squared (uncentered):              0.414\n",
       "Method:                 Least Squares   F-statistic:                              2244.\n",
       "Date:                Mon, 21 Oct 2019   Prob (F-statistic):                        0.00\n",
       "Time:                        01:46:58   Log-Likelihood:                     -1.8724e+05\n",
       "No. Observations:               12705   AIC:                                  3.745e+05\n",
       "Df Residuals:                   12701   BIC:                                  3.745e+05\n",
       "Df Model:                           4                                                  \n",
       "Covariance Type:            nonrobust                                                  \n",
       "=======================================================================================\n",
       "                          coef    std err          t      P>|t|      [0.025      0.975]\n",
       "---------------------------------------------------------------------------------------\n",
       "bedrooms            -6.759e+04   7615.318     -8.875      0.000   -8.25e+04   -5.27e+04\n",
       "bathrooms            3627.4764   1.05e+04      0.346      0.729   -1.69e+04    2.42e+04\n",
       "square_feet          5.177e+05   9964.879     51.954      0.000    4.98e+05    5.37e+05\n",
       "lot_size_minus_sqft   902.2131    213.921      4.217      0.000     482.895    1321.531\n",
       "==============================================================================\n",
       "Omnibus:                    15912.756   Durbin-Watson:                   1.349\n",
       "Prob(Omnibus):                  0.000   Jarque-Bera (JB):          7688985.950\n",
       "Skew:                           6.409   Prob(JB):                         0.00\n",
       "Kurtosis:                     122.835   Cond. No.                         63.3\n",
       "==============================================================================\n",
       "\n",
       "Warnings:\n",
       "[1] Standard Errors assume that the covariance matrix of the errors is correctly specified.\n",
       "\"\"\""
      ]
     },
     "execution_count": 40,
     "metadata": {},
     "output_type": "execute_result"
    }
   ],
   "source": [
    "import statsmodels.api as sm\n",
    "\n",
    "res = sm.OLS(y_train, X_train_scaled).fit()\n",
    "\n",
    "res.summary()"
   ]
  },
  {
   "cell_type": "markdown",
   "metadata": {},
   "source": [
    "### Using the sklearn library, the LinearRegression function was used to create the regression object."
   ]
  },
  {
   "cell_type": "code",
   "execution_count": 30,
   "metadata": {},
   "outputs": [],
   "source": [
    "from sklearn.linear_model import LinearRegression\n",
    "from sklearn import metrics\n",
    "\n",
    "lm1 = LinearRegression()"
   ]
  },
  {
   "cell_type": "markdown",
   "metadata": {},
   "source": [
    "#### Predicting off of the test values to evaluate our models performance"
   ]
  },
  {
   "cell_type": "code",
   "execution_count": 31,
   "metadata": {},
   "outputs": [
    {
     "data": {
      "text/plain": [
       "LinearRegression(copy_X=True, fit_intercept=True, n_jobs=None, normalize=False)"
      ]
     },
     "execution_count": 31,
     "metadata": {},
     "output_type": "execute_result"
    }
   ],
   "source": [
    "lm1.fit(X_train_scaled, y_train)"
   ]
  },
  {
   "cell_type": "code",
   "execution_count": 32,
   "metadata": {},
   "outputs": [
    {
     "data": {
      "text/plain": [
       "array([[-1.44664561e+05,  3.68568342e+04,  4.48754710e+05,\n",
       "         2.17045853e+02]])"
      ]
     },
     "execution_count": 32,
     "metadata": {},
     "output_type": "execute_result"
    }
   ],
   "source": [
    "lm1.coef_"
   ]
  },
  {
   "cell_type": "code",
   "execution_count": 33,
   "metadata": {},
   "outputs": [],
   "source": [
    "predictions = lm1.predict(X_test)"
   ]
  },
  {
   "cell_type": "markdown",
   "metadata": {},
   "source": [
    "#### Scatter plot of the Predicted Values vs Real Test Values"
   ]
  },
  {
   "cell_type": "code",
   "execution_count": 41,
   "metadata": {},
   "outputs": [
    {
     "ename": "NameError",
     "evalue": "name 'y_pred_lm1' is not defined",
     "output_type": "error",
     "traceback": [
      "\u001b[0;31m---------------------------------------------------------------------------\u001b[0m",
      "\u001b[0;31mNameError\u001b[0m                                 Traceback (most recent call last)",
      "\u001b[0;32m<ipython-input-41-dc7d1146f5e1>\u001b[0m in \u001b[0;36m<module>\u001b[0;34m\u001b[0m\n\u001b[1;32m      4\u001b[0m \u001b[0;34m\u001b[0m\u001b[0m\n\u001b[1;32m      5\u001b[0m pd.DataFrame({'actual': y_train,\n\u001b[0;32m----> 6\u001b[0;31m               \u001b[0;34m'lm1'\u001b[0m\u001b[0;34m:\u001b[0m \u001b[0my_pred_lm1\u001b[0m\u001b[0;34m.\u001b[0m\u001b[0mravel\u001b[0m\u001b[0;34m(\u001b[0m\u001b[0;34m)\u001b[0m\u001b[0;34m,\u001b[0m\u001b[0;34m\u001b[0m\u001b[0;34m\u001b[0m\u001b[0m\n\u001b[0m\u001b[1;32m      7\u001b[0m               'lm_baseline': y_pred_baseline.ravel()})\\\n\u001b[1;32m      8\u001b[0m \u001b[0;34m.\u001b[0m\u001b[0mmelt\u001b[0m\u001b[0;34m(\u001b[0m\u001b[0mid_vars\u001b[0m\u001b[0;34m=\u001b[0m\u001b[0;34m[\u001b[0m\u001b[0;34m'actual'\u001b[0m\u001b[0;34m]\u001b[0m\u001b[0;34m,\u001b[0m \u001b[0mvar_name\u001b[0m\u001b[0;34m=\u001b[0m\u001b[0;34m'model'\u001b[0m\u001b[0;34m,\u001b[0m \u001b[0mvalue_name\u001b[0m\u001b[0;34m=\u001b[0m\u001b[0;34m'prediction'\u001b[0m\u001b[0;34m)\u001b[0m\u001b[0;31m\\\u001b[0m\u001b[0;34m\u001b[0m\u001b[0;34m\u001b[0m\u001b[0m\n",
      "\u001b[0;31mNameError\u001b[0m: name 'y_pred_lm1' is not defined"
     ]
    }
   ],
   "source": [
    "# plt.scatter(y_test, predictions)\n",
    "# plt.xlabel('y_test(True Values)')\n",
    "# plt.ylabel('Predicted Values')\n",
    "\n",
    "pd.DataFrame({'actual': y_train,\n",
    "              'lm1': y_.ravel(),\n",
    "              'lm_baseline': y_pred_baseline.ravel()})\\\n",
    ".melt(id_vars=['actual'], var_name='model', value_name='prediction')\\\n",
    ".pipe((sns.relplot, 'data'), x='actual', y='prediction', hue='model')\n",
    "plt.plot([min, max],[min, max], c='black', ls=':')\n",
    "plt.ylim(min, max)\n",
    "plt.xlim(min, max)\n",
    "plt.title('Predicted vs Actual Final Grade')"
   ]
  },
  {
   "cell_type": "markdown",
   "metadata": {},
   "source": [
    "### Evaluating Model Performance: Mean squared error and root mean squared error"
   ]
  },
  {
   "cell_type": "code",
   "execution_count": 35,
   "metadata": {},
   "outputs": [
    {
     "name": "stdout",
     "output_type": "stream",
     "text": [
      "MSE  204910246134.9187\n",
      "RMSE  452670.1294926789\n"
     ]
    }
   ],
   "source": [
    "print('MSE ', metrics.mean_squared_error(y_test,predictions))\n",
    "print('RMSE ',np.sqrt(metrics.mean_squared_error(y_test,predictions)))"
   ]
  },
  {
   "cell_type": "markdown",
   "metadata": {},
   "source": [
    "### R-squared"
   ]
  },
  {
   "cell_type": "code",
   "execution_count": 36,
   "metadata": {},
   "outputs": [
    {
     "data": {
      "text/plain": [
       "0.46604442027567483"
      ]
     },
     "execution_count": 36,
     "metadata": {},
     "output_type": "execute_result"
    }
   ],
   "source": [
    "metrics.explained_variance_score(y_test,predictions)"
   ]
  },
  {
   "cell_type": "markdown",
   "metadata": {},
   "source": [
    "### Plotting Residuals to make sure it is normally distributed"
   ]
  },
  {
   "cell_type": "code",
   "execution_count": 38,
   "metadata": {},
   "outputs": [
    {
     "data": {
      "text/plain": [
       "<matplotlib.axes._subplots.AxesSubplot at 0x1c271219e8>"
      ]
     },
     "execution_count": 38,
     "metadata": {},
     "output_type": "execute_result"
    },
    {
     "data": {
      "image/png": "[encoded data removed]",
      "text/plain": [
       "<Figure size 432x288 with 1 Axes>"
      ]
     },
     "metadata": {
      "needs_background": "light"
     },
     "output_type": "display_data"
    }
   ],
   "source": [
    "sns.distplot((y_test-predictions), bins=100)"
   ]
  },
  {
   "cell_type": "markdown",
   "metadata": {},
   "source": [
    "## Conclusions"
   ]
  },
  {
   "cell_type": "markdown",
   "metadata": {},
   "source": [
    "Being that I ended up with an R-sqaured value of only .47(meaning only 47% of the error is explained by this model), the model is in need of a lot of improvement.  This could be due to the possible multicollinearity of my 4 features. A possible solution could be to use different scaling function and/or feature engineering techniques to remove the collinearity of the features."
   ]
  },
  {
   "cell_type": "code",
   "execution_count": null,
   "metadata": {},
   "outputs": [],
   "source": []
  }
 ],
 "metadata": {
  "kernelspec": {
   "display_name": "Python 3",
   "language": "python",
   "name": "python3"
  },
  "language_info": {
   "codemirror_mode": {
    "name": "ipython",
    "version": 3
   },
   "file_extension": ".py",
   "mimetype": "text/x-python",
   "name": "python",
   "nbconvert_exporter": "python",
   "pygments_lexer": "ipython3",
   "version": "3.7.3"
  }
 },
 "nbformat": 4,
 "nbformat_minor": 2
}
